{
 "cells": [
  {
   "cell_type": "markdown",
   "metadata": {},
   "source": [
    "# Hospital Readmission Prediction for Diabetes Patients "
   ]
  },
  {
   "cell_type": "markdown",
   "metadata": {},
   "source": [
    "The Centers for Medicare & Medicaid Services(CMS), which is part of the Department of Health and Human Services (HHS) has created many programs to improve the quality of patient care, as the healthcare system moves toward more value-based care. Hospital Readmission Reduction Program (HRRP), which is one of them, reduces reimbursement has implemented penalization on hospitals with above average readmissions. This ensures that  the hospitals under this program proactively take steps to create interventions to provide additional assistance to patients with increased risk of readmission. \n",
    "One patient population that is at increased risk of hospitalization and readmission is that of diabetes. Diabetes is a medical condition that affects approximately 1 in 10 patients in the United States. So it would be beneficial to use predictive modeling from data science to help identify  patients  with a likelihood of hospital readmission.\n"
   ]
  },
  {
   "cell_type": "code",
   "execution_count": 1,
   "metadata": {},
   "outputs": [],
   "source": [
    "#initial libraries\n",
    "import pandas as pd\n",
    "import numpy as np\n",
    "import matplotlib.pyplot as plt\n",
    "from matplotlib import pyplot\n",
    "import seaborn as sns\n",
    "# Mining / EDA / dimensionality reduction\n",
    "from sklearn.preprocessing import StandardScaler, LabelEncoder, OneHotEncoder\n",
    "from sklearn.model_selection import train_test_split\n"
   ]
  },
  {
   "cell_type": "markdown",
   "metadata": {},
   "source": [
    "## Dataset Exploration"
   ]
  },
  {
   "cell_type": "code",
   "execution_count": 2,
   "metadata": {},
   "outputs": [],
   "source": [
    "# Data set used is from UCI machine learning repository. The data consists of over 100000 hospital admissions \n",
    "# from patients with diabetes from 130 US hospitals between 1998 and 2008.\n",
    "\n",
    "#Initial examination of csv file shows that null values are indicated by  '?' in csv file.\n",
    "\n",
    "diabetic_data = pd.read_csv('diabetic_data.csv', index_col='encounter_id', na_values=\"?\", low_memory=False)\n",
    "eda_data = pd.read_csv('diabetic_data.csv',  na_values=\"?\",low_memory=False)"
   ]
  },
  {
   "cell_type": "code",
   "execution_count": 3,
   "metadata": {},
   "outputs": [
    {
     "name": "stdout",
     "output_type": "stream",
     "text": [
      "Number of samples: 101766\n"
     ]
    }
   ],
   "source": [
    "print('Number of samples:',len(diabetic_data))"
   ]
  },
  {
   "cell_type": "code",
   "execution_count": 4,
   "metadata": {},
   "outputs": [
    {
     "name": "stdout",
     "output_type": "stream",
     "text": [
      "<class 'pandas.core.frame.DataFrame'>\n",
      "Int64Index: 101766 entries, 2278392 to 443867222\n",
      "Data columns (total 49 columns):\n",
      "patient_nbr                 101766 non-null int64\n",
      "race                        99493 non-null object\n",
      "gender                      101766 non-null object\n",
      "age                         101766 non-null object\n",
      "weight                      3197 non-null object\n",
      "admission_type_id           101766 non-null int64\n",
      "discharge_disposition_id    101766 non-null int64\n",
      "admission_source_id         101766 non-null int64\n",
      "time_in_hospital            101766 non-null int64\n",
      "payer_code                  61510 non-null object\n",
      "medical_specialty           51817 non-null object\n",
      "num_lab_procedures          101766 non-null int64\n",
      "num_procedures              101766 non-null int64\n",
      "num_medications             101766 non-null int64\n",
      "number_outpatient           101766 non-null int64\n",
      "number_emergency            101766 non-null int64\n",
      "number_inpatient            101766 non-null int64\n",
      "diag_1                      101745 non-null object\n",
      "diag_2                      101408 non-null object\n",
      "diag_3                      100343 non-null object\n",
      "number_diagnoses            101766 non-null int64\n",
      "max_glu_serum               101766 non-null object\n",
      "A1Cresult                   101766 non-null object\n",
      "metformin                   101766 non-null object\n",
      "repaglinide                 101766 non-null object\n",
      "nateglinide                 101766 non-null object\n",
      "chlorpropamide              101766 non-null object\n",
      "glimepiride                 101766 non-null object\n",
      "acetohexamide               101766 non-null object\n",
      "glipizide                   101766 non-null object\n",
      "glyburide                   101766 non-null object\n",
      "tolbutamide                 101766 non-null object\n",
      "pioglitazone                101766 non-null object\n",
      "rosiglitazone               101766 non-null object\n",
      "acarbose                    101766 non-null object\n",
      "miglitol                    101766 non-null object\n",
      "troglitazone                101766 non-null object\n",
      "tolazamide                  101766 non-null object\n",
      "examide                     101766 non-null object\n",
      "citoglipton                 101766 non-null object\n",
      "insulin                     101766 non-null object\n",
      "glyburide-metformin         101766 non-null object\n",
      "glipizide-metformin         101766 non-null object\n",
      "glimepiride-pioglitazone    101766 non-null object\n",
      "metformin-rosiglitazone     101766 non-null object\n",
      "metformin-pioglitazone      101766 non-null object\n",
      "change                      101766 non-null object\n",
      "diabetesMed                 101766 non-null object\n",
      "readmitted                  101766 non-null object\n",
      "dtypes: int64(12), object(37)\n",
      "memory usage: 38.8+ MB\n"
     ]
    }
   ],
   "source": [
    "diabetic_data.info()"
   ]
  },
  {
   "cell_type": "code",
   "execution_count": 5,
   "metadata": {},
   "outputs": [
    {
     "data": {
      "text/plain": [
       "(101766, 49)"
      ]
     },
     "execution_count": 5,
     "metadata": {},
     "output_type": "execute_result"
    }
   ],
   "source": [
    "diabetic_data.head()\n",
    "diabetic_data.shape"
   ]
  },
  {
   "cell_type": "code",
   "execution_count": 6,
   "metadata": {},
   "outputs": [
    {
     "data": {
      "text/plain": [
       "readmitted\n",
       "<30    11357\n",
       ">30    35545\n",
       "NO     54864\n",
       "dtype: int64"
      ]
     },
     "execution_count": 6,
     "metadata": {},
     "output_type": "execute_result"
    }
   ],
   "source": [
    "# The column 'readmitted' indicates if a patient was hospitalized within 30 days, greater than 30 days or not readmitted.\n",
    "\n",
    "diabetic_data.groupby('readmitted').size()"
   ]
  },
  {
   "cell_type": "code",
   "execution_count": 7,
   "metadata": {},
   "outputs": [
    {
     "data": {
      "text/plain": [
       "(99343, 49)"
      ]
     },
     "execution_count": 7,
     "metadata": {},
     "output_type": "execute_result"
    }
   ],
   "source": [
    "# 'discharge_disposition_id' column indicates  what happened to patient post hospitalization.From the csv file, the ids \n",
    "#  11,13,14,19,20,21 are related to death or hospice , so those can be dropped\n",
    "\n",
    "diabetic_data = diabetic_data.loc[~diabetic_data['discharge_disposition_id'].isin([11,13,14,19,20,21])]\n",
    "diabetic_data.shape"
   ]
  },
  {
   "cell_type": "code",
   "execution_count": 8,
   "metadata": {},
   "outputs": [
    {
     "data": {
      "text/plain": [
       "99343"
      ]
     },
     "execution_count": 8,
     "metadata": {},
     "output_type": "execute_result"
    }
   ],
   "source": [
    "len(diabetic_data)"
   ]
  },
  {
   "cell_type": "code",
   "execution_count": 9,
   "metadata": {},
   "outputs": [],
   "source": [
    "# Creating a target_variable 'readmission_label',assigning it the value '1' if 'readmitted < '30' days and '0' otherwise\n",
    "diabetic_data['readmission_label'] = (diabetic_data.readmitted == '<30').astype('int')\n"
   ]
  },
  {
   "cell_type": "code",
   "execution_count": 10,
   "metadata": {},
   "outputs": [
    {
     "data": {
      "text/plain": [
       "0    88.611175\n",
       "1    11.388825\n",
       "Name: readmission_label, dtype: float64"
      ]
     },
     "execution_count": 10,
     "metadata": {},
     "output_type": "execute_result"
    }
   ],
   "source": [
    "diabetic_data['readmission_label'].value_counts(normalize=True) * 100"
   ]
  },
  {
   "cell_type": "markdown",
   "metadata": {},
   "source": [
    "From the above result of value_count function, it can be  seen that the class is not a balanced data set. 88% of the records are of patients who did not seek readmission within 30 days and only 11%  sought readmission, indicating that it is an imbalanced data set."
   ]
  },
  {
   "cell_type": "code",
   "execution_count": 11,
   "metadata": {},
   "outputs": [
    {
     "data": {
      "text/html": [
       "<div>\n",
       "<style scoped>\n",
       "    .dataframe tbody tr th:only-of-type {\n",
       "        vertical-align: middle;\n",
       "    }\n",
       "\n",
       "    .dataframe tbody tr th {\n",
       "        vertical-align: top;\n",
       "    }\n",
       "\n",
       "    .dataframe thead th {\n",
       "        text-align: right;\n",
       "    }\n",
       "</style>\n",
       "<table border=\"1\" class=\"dataframe\">\n",
       "  <thead>\n",
       "    <tr style=\"text-align: right;\">\n",
       "      <th></th>\n",
       "      <th>patient_nbr</th>\n",
       "      <th>race</th>\n",
       "      <th>gender</th>\n",
       "      <th>age</th>\n",
       "      <th>weight</th>\n",
       "      <th>admission_type_id</th>\n",
       "      <th>discharge_disposition_id</th>\n",
       "      <th>admission_source_id</th>\n",
       "      <th>time_in_hospital</th>\n",
       "      <th>payer_code</th>\n",
       "      <th>...</th>\n",
       "      <th>insulin</th>\n",
       "      <th>glyburide-metformin</th>\n",
       "      <th>glipizide-metformin</th>\n",
       "      <th>glimepiride-pioglitazone</th>\n",
       "      <th>metformin-rosiglitazone</th>\n",
       "      <th>metformin-pioglitazone</th>\n",
       "      <th>change</th>\n",
       "      <th>diabetesMed</th>\n",
       "      <th>readmitted</th>\n",
       "      <th>readmission_label</th>\n",
       "    </tr>\n",
       "    <tr>\n",
       "      <th>encounter_id</th>\n",
       "      <th></th>\n",
       "      <th></th>\n",
       "      <th></th>\n",
       "      <th></th>\n",
       "      <th></th>\n",
       "      <th></th>\n",
       "      <th></th>\n",
       "      <th></th>\n",
       "      <th></th>\n",
       "      <th></th>\n",
       "      <th></th>\n",
       "      <th></th>\n",
       "      <th></th>\n",
       "      <th></th>\n",
       "      <th></th>\n",
       "      <th></th>\n",
       "      <th></th>\n",
       "      <th></th>\n",
       "      <th></th>\n",
       "      <th></th>\n",
       "      <th></th>\n",
       "    </tr>\n",
       "  </thead>\n",
       "  <tbody>\n",
       "    <tr>\n",
       "      <th>2278392</th>\n",
       "      <td>8222157</td>\n",
       "      <td>Caucasian</td>\n",
       "      <td>Female</td>\n",
       "      <td>[0-10)</td>\n",
       "      <td>NaN</td>\n",
       "      <td>6</td>\n",
       "      <td>25</td>\n",
       "      <td>1</td>\n",
       "      <td>1</td>\n",
       "      <td>NaN</td>\n",
       "      <td>...</td>\n",
       "      <td>No</td>\n",
       "      <td>No</td>\n",
       "      <td>No</td>\n",
       "      <td>No</td>\n",
       "      <td>No</td>\n",
       "      <td>No</td>\n",
       "      <td>No</td>\n",
       "      <td>No</td>\n",
       "      <td>NO</td>\n",
       "      <td>0</td>\n",
       "    </tr>\n",
       "    <tr>\n",
       "      <th>149190</th>\n",
       "      <td>55629189</td>\n",
       "      <td>Caucasian</td>\n",
       "      <td>Female</td>\n",
       "      <td>[10-20)</td>\n",
       "      <td>NaN</td>\n",
       "      <td>1</td>\n",
       "      <td>1</td>\n",
       "      <td>7</td>\n",
       "      <td>3</td>\n",
       "      <td>NaN</td>\n",
       "      <td>...</td>\n",
       "      <td>Up</td>\n",
       "      <td>No</td>\n",
       "      <td>No</td>\n",
       "      <td>No</td>\n",
       "      <td>No</td>\n",
       "      <td>No</td>\n",
       "      <td>Ch</td>\n",
       "      <td>Yes</td>\n",
       "      <td>&gt;30</td>\n",
       "      <td>0</td>\n",
       "    </tr>\n",
       "    <tr>\n",
       "      <th>64410</th>\n",
       "      <td>86047875</td>\n",
       "      <td>AfricanAmerican</td>\n",
       "      <td>Female</td>\n",
       "      <td>[20-30)</td>\n",
       "      <td>NaN</td>\n",
       "      <td>1</td>\n",
       "      <td>1</td>\n",
       "      <td>7</td>\n",
       "      <td>2</td>\n",
       "      <td>NaN</td>\n",
       "      <td>...</td>\n",
       "      <td>No</td>\n",
       "      <td>No</td>\n",
       "      <td>No</td>\n",
       "      <td>No</td>\n",
       "      <td>No</td>\n",
       "      <td>No</td>\n",
       "      <td>No</td>\n",
       "      <td>Yes</td>\n",
       "      <td>NO</td>\n",
       "      <td>0</td>\n",
       "    </tr>\n",
       "    <tr>\n",
       "      <th>500364</th>\n",
       "      <td>82442376</td>\n",
       "      <td>Caucasian</td>\n",
       "      <td>Male</td>\n",
       "      <td>[30-40)</td>\n",
       "      <td>NaN</td>\n",
       "      <td>1</td>\n",
       "      <td>1</td>\n",
       "      <td>7</td>\n",
       "      <td>2</td>\n",
       "      <td>NaN</td>\n",
       "      <td>...</td>\n",
       "      <td>Up</td>\n",
       "      <td>No</td>\n",
       "      <td>No</td>\n",
       "      <td>No</td>\n",
       "      <td>No</td>\n",
       "      <td>No</td>\n",
       "      <td>Ch</td>\n",
       "      <td>Yes</td>\n",
       "      <td>NO</td>\n",
       "      <td>0</td>\n",
       "    </tr>\n",
       "    <tr>\n",
       "      <th>16680</th>\n",
       "      <td>42519267</td>\n",
       "      <td>Caucasian</td>\n",
       "      <td>Male</td>\n",
       "      <td>[40-50)</td>\n",
       "      <td>NaN</td>\n",
       "      <td>1</td>\n",
       "      <td>1</td>\n",
       "      <td>7</td>\n",
       "      <td>1</td>\n",
       "      <td>NaN</td>\n",
       "      <td>...</td>\n",
       "      <td>Steady</td>\n",
       "      <td>No</td>\n",
       "      <td>No</td>\n",
       "      <td>No</td>\n",
       "      <td>No</td>\n",
       "      <td>No</td>\n",
       "      <td>Ch</td>\n",
       "      <td>Yes</td>\n",
       "      <td>NO</td>\n",
       "      <td>0</td>\n",
       "    </tr>\n",
       "  </tbody>\n",
       "</table>\n",
       "<p>5 rows × 50 columns</p>\n",
       "</div>"
      ],
      "text/plain": [
       "              patient_nbr             race  gender      age weight  \\\n",
       "encounter_id                                                         \n",
       "2278392           8222157        Caucasian  Female   [0-10)    NaN   \n",
       "149190           55629189        Caucasian  Female  [10-20)    NaN   \n",
       "64410            86047875  AfricanAmerican  Female  [20-30)    NaN   \n",
       "500364           82442376        Caucasian    Male  [30-40)    NaN   \n",
       "16680            42519267        Caucasian    Male  [40-50)    NaN   \n",
       "\n",
       "              admission_type_id  discharge_disposition_id  \\\n",
       "encounter_id                                                \n",
       "2278392                       6                        25   \n",
       "149190                        1                         1   \n",
       "64410                         1                         1   \n",
       "500364                        1                         1   \n",
       "16680                         1                         1   \n",
       "\n",
       "              admission_source_id  time_in_hospital payer_code  \\\n",
       "encounter_id                                                     \n",
       "2278392                         1                 1        NaN   \n",
       "149190                          7                 3        NaN   \n",
       "64410                           7                 2        NaN   \n",
       "500364                          7                 2        NaN   \n",
       "16680                           7                 1        NaN   \n",
       "\n",
       "                    ...        insulin  glyburide-metformin  \\\n",
       "encounter_id        ...                                       \n",
       "2278392             ...             No                   No   \n",
       "149190              ...             Up                   No   \n",
       "64410               ...             No                   No   \n",
       "500364              ...             Up                   No   \n",
       "16680               ...         Steady                   No   \n",
       "\n",
       "              glipizide-metformin  glimepiride-pioglitazone  \\\n",
       "encounter_id                                                  \n",
       "2278392                        No                        No   \n",
       "149190                         No                        No   \n",
       "64410                          No                        No   \n",
       "500364                         No                        No   \n",
       "16680                          No                        No   \n",
       "\n",
       "              metformin-rosiglitazone  metformin-pioglitazone  change  \\\n",
       "encounter_id                                                            \n",
       "2278392                            No                      No      No   \n",
       "149190                             No                      No      Ch   \n",
       "64410                              No                      No      No   \n",
       "500364                             No                      No      Ch   \n",
       "16680                              No                      No      Ch   \n",
       "\n",
       "             diabetesMed readmitted readmission_label  \n",
       "encounter_id                                           \n",
       "2278392               No         NO                 0  \n",
       "149190               Yes        >30                 0  \n",
       "64410                Yes         NO                 0  \n",
       "500364               Yes         NO                 0  \n",
       "16680                Yes         NO                 0  \n",
       "\n",
       "[5 rows x 50 columns]"
      ]
     },
     "execution_count": 11,
     "metadata": {},
     "output_type": "execute_result"
    }
   ],
   "source": [
    "diabetic_data.head()"
   ]
  },
  {
   "cell_type": "code",
   "execution_count": 12,
   "metadata": {},
   "outputs": [
    {
     "data": {
      "text/plain": [
       "(99343, 50)"
      ]
     },
     "execution_count": 12,
     "metadata": {},
     "output_type": "execute_result"
    }
   ],
   "source": [
    "diabetic_data.shape"
   ]
  },
  {
   "cell_type": "code",
   "execution_count": 13,
   "metadata": {},
   "outputs": [
    {
     "data": {
      "text/plain": [
       "race                  2.25\n",
       "weight               96.85\n",
       "payer_code           39.66\n",
       "medical_specialty    48.94\n",
       "diag_1                0.02\n",
       "diag_2                0.36\n",
       "diag_3                1.43\n",
       "dtype: float64"
      ]
     },
     "execution_count": 13,
     "metadata": {},
     "output_type": "execute_result"
    }
   ],
   "source": [
    "# Get an idea of how many features are missing values, and how many values they're missing:\n",
    "def percent_null(data):\n",
    "    # Returns a Pandas series of what percentage of each feature of 'data' contains NaN values\n",
    "    pc_null = data.apply(pd.Series.isnull).apply(lambda x: 100*round(len(x[x==True])/len(x), 4))\n",
    "    return pc_null[pc_null!=0]\n",
    "percent_null(diabetic_data)\n"
   ]
  },
  {
   "cell_type": "code",
   "execution_count": 14,
   "metadata": {},
   "outputs": [],
   "source": [
    "# The columns 'weight' and ' payer_code ' can be dropped as there is significant null values in those columns\n",
    "\n",
    "diabetic_data.drop(['weight', 'payer_code'], axis=1, inplace=True);"
   ]
  },
  {
   "cell_type": "code",
   "execution_count": 15,
   "metadata": {},
   "outputs": [],
   "source": [
    "# Age range is categorical.I use the labelEncoder.fit_tranform function to assign numbers starting from 0 to 9 in the\n",
    "# range '(0-10) to (90 -100)'. Then use simple mathematic formula to assign the mean each of each range as the age of the patient.\n",
    "\n",
    "diabetic_data.age = (LabelEncoder().fit_transform(diabetic_data.age))\n",
    "diabetic_data.age = diabetic_data.age*10+5"
   ]
  },
  {
   "cell_type": "code",
   "execution_count": 16,
   "metadata": {},
   "outputs": [],
   "source": [
    "# Convert nominal and ordinate variables as categorical dtypes, interval variables as integers\n",
    "cols_nume = ['age','time_in_hospital','num_lab_procedures', 'num_procedures', 'num_medications',\n",
    "       'number_outpatient', 'number_emergency', 'number_inpatient','number_diagnoses']"
   ]
  },
  {
   "cell_type": "code",
   "execution_count": 17,
   "metadata": {},
   "outputs": [
    {
     "data": {
      "text/plain": [
       "age                   0\n",
       "time_in_hospital      0\n",
       "num_lab_procedures    0\n",
       "num_procedures        0\n",
       "num_medications       0\n",
       "number_outpatient     0\n",
       "number_emergency      0\n",
       "number_inpatient      0\n",
       "number_diagnoses      0\n",
       "dtype: int64"
      ]
     },
     "execution_count": 17,
     "metadata": {},
     "output_type": "execute_result"
    }
   ],
   "source": [
    "diabetic_data[cols_nume].isnull().sum()"
   ]
  },
  {
   "cell_type": "code",
   "execution_count": 18,
   "metadata": {},
   "outputs": [],
   "source": [
    "cols_cate = ['race', 'gender', \n",
    "       'max_glu_serum', 'A1Cresult',\n",
    "       'metformin', 'repaglinide', 'nateglinide', 'chlorpropamide',\n",
    "       'glimepiride', 'acetohexamide', 'glipizide', 'glyburide', 'tolbutamide',\n",
    "       'pioglitazone', 'rosiglitazone', 'acarbose', 'miglitol', 'troglitazone',\n",
    "       'tolazamide', 'insulin',\n",
    "       'glyburide-metformin', 'glipizide-metformin',\n",
    "       'glimepiride-pioglitazone', 'metformin-rosiglitazone',\n",
    "       'metformin-pioglitazone', 'change', 'diabetesMed']"
   ]
  },
  {
   "cell_type": "code",
   "execution_count": 19,
   "metadata": {},
   "outputs": [],
   "source": [
    "# checking for null values\n",
    "diabetic_data[cols_cate].isnull().sum()\n",
    "diabetic_data['medical_specialty'].isnull().sum()\n",
    "\n",
    "# replacing null values with 'UNK' for unknown\n",
    "diabetic_data['race'] = diabetic_data['race'].fillna('UNK')\n",
    "diabetic_data['medical_specialty'] = diabetic_data['medical_specialty'].fillna('UNK')"
   ]
  },
  {
   "cell_type": "code",
   "execution_count": 20,
   "metadata": {},
   "outputs": [
    {
     "name": "stdout",
     "output_type": "stream",
     "text": [
      "Number medical specialty: 73\n"
     ]
    },
    {
     "data": {
      "text/plain": [
       "medical_specialty\n",
       "UNK                                  48616\n",
       "InternalMedicine                     14237\n",
       "Emergency/Trauma                      7419\n",
       "Family/GeneralPractice                7252\n",
       "Cardiology                            5279\n",
       "Surgery-General                       3059\n",
       "Nephrology                            1539\n",
       "Orthopedics                           1392\n",
       "Orthopedics-Reconstructive            1230\n",
       "Radiologist                           1121\n",
       "Pulmonology                            854\n",
       "Psychiatry                             853\n",
       "Urology                                682\n",
       "ObstetricsandGynecology                669\n",
       "Surgery-Cardiovascular/Thoracic        642\n",
       "Gastroenterology                       538\n",
       "Surgery-Vascular                       525\n",
       "Surgery-Neuro                          462\n",
       "PhysicalMedicineandRehabilitation      391\n",
       "Oncology                               319\n",
       "Pediatrics                             253\n",
       "Neurology                              201\n",
       "Hematology/Oncology                    187\n",
       "Pediatrics-Endocrinology               159\n",
       "Otolaryngology                         125\n",
       "Endocrinology                          119\n",
       "Surgery-Thoracic                       108\n",
       "Psychology                             101\n",
       "Podiatry                               100\n",
       "Surgery-Cardiovascular                  98\n",
       "                                     ...  \n",
       "Anesthesiology-Pediatric                19\n",
       "Obstetrics                              19\n",
       "Rheumatology                            17\n",
       "Pathology                               16\n",
       "OutreachServices                        12\n",
       "Anesthesiology                          12\n",
       "Surgery-Colon&Rectal                    11\n",
       "Pediatrics-Neurology                    10\n",
       "PhysicianNotFound                       10\n",
       "Surgery-Maxillofacial                    9\n",
       "Endocrinology-Metabolism                 8\n",
       "Surgery-Pediatric                        8\n",
       "Cardiology-Pediatric                     7\n",
       "AllergyandImmunology                     7\n",
       "Psychiatry-Child/Adolescent              7\n",
       "DCPTEAM                                  5\n",
       "Pediatrics-Hematology-Oncology           4\n",
       "Dentistry                                4\n",
       "Pediatrics-AllergyandImmunology          3\n",
       "Pediatrics-EmergencyMedicine             3\n",
       "Resident                                 2\n",
       "Neurophysiology                          1\n",
       "Pediatrics-InfectiousDiseases            1\n",
       "Perinatology                             1\n",
       "Proctology                               1\n",
       "Psychiatry-Addictive                     1\n",
       "Dermatology                              1\n",
       "Speech                                   1\n",
       "SportsMedicine                           1\n",
       "Surgery-PlasticwithinHeadandNeck         1\n",
       "Length: 73, dtype: int64"
      ]
     },
     "execution_count": 20,
     "metadata": {},
     "output_type": "execute_result"
    }
   ],
   "source": [
    "print('Number medical specialty:', diabetic_data.medical_specialty.nunique())\n",
    "diabetic_data.groupby('medical_specialty').size().sort_values(ascending = False)"
   ]
  },
  {
   "cell_type": "code",
   "execution_count": 21,
   "metadata": {},
   "outputs": [],
   "source": [
    "#  medical speciality other than Top 20 would be clubbed under 'other'\n",
    "top_20 = ['InternalMedicine','Emergency/Trauma',\\\n",
    "          'Family/GeneralPractice', 'Cardiology','Surgery-General' ,\\\n",
    "          'Nephrology','Orthopedics',\\\n",
    "          'Orthopedics-Reconstructive','Radiologist','Pulmonology',\\\n",
    "          'Psychiatry','Urology','ObstetricsandGynecology',\\\n",
    "          'Surgery-Cardiovascular/Thoracic','Gastroenterology'\n",
    "          'Surgery-Vascular','Surger-Neuro',\\\n",
    "          'PhysicalMedicineandRehabilitation','Oncology','Pediatrics']\n",
    "\n",
    "# make a new column with duplicated data\n",
    "#diabetic_data['med_spec_other'] = diabetic_data['medical_specialty'].copy()\n",
    "\n",
    "\n",
    "\n",
    "# replace all specialties not in top 20 with 'Other' category\n",
    "#diabetic_data.loc[~diabetic_data.med_spec_other.isin(top_20),'med_spec_other'] = 'Other'\n",
    "diabetic_data.loc[~diabetic_data.medical_specialty.isin(top_20),'medical_specialty'] = 'Other'"
   ]
  },
  {
   "cell_type": "code",
   "execution_count": 22,
   "metadata": {},
   "outputs": [
    {
     "data": {
      "text/plain": [
       "medical_specialty\n",
       "Cardiology                            5279\n",
       "Emergency/Trauma                      7419\n",
       "Family/GeneralPractice                7252\n",
       "InternalMedicine                     14237\n",
       "Nephrology                            1539\n",
       "ObstetricsandGynecology                669\n",
       "Oncology                               319\n",
       "Orthopedics                           1392\n",
       "Orthopedics-Reconstructive            1230\n",
       "Other                                52152\n",
       "Pediatrics                             253\n",
       "PhysicalMedicineandRehabilitation      391\n",
       "Psychiatry                             853\n",
       "Pulmonology                            854\n",
       "Radiologist                           1121\n",
       "Surgery-Cardiovascular/Thoracic        642\n",
       "Surgery-General                       3059\n",
       "Urology                                682\n",
       "dtype: int64"
      ]
     },
     "execution_count": 22,
     "metadata": {},
     "output_type": "execute_result"
    }
   ],
   "source": [
    "diabetic_data.groupby('medical_specialty').size()\n"
   ]
  },
  {
   "cell_type": "code",
   "execution_count": 23,
   "metadata": {},
   "outputs": [
    {
     "name": "stdout",
     "output_type": "stream",
     "text": [
      "<class 'pandas.core.frame.DataFrame'>\n",
      "Int64Index: 99343 entries, 2278392 to 443867222\n",
      "Data columns (total 48 columns):\n",
      "patient_nbr                 99343 non-null int64\n",
      "race                        99343 non-null object\n",
      "gender                      99343 non-null object\n",
      "age                         99343 non-null int32\n",
      "admission_type_id           99343 non-null int64\n",
      "discharge_disposition_id    99343 non-null int64\n",
      "admission_source_id         99343 non-null int64\n",
      "time_in_hospital            99343 non-null int64\n",
      "medical_specialty           99343 non-null object\n",
      "num_lab_procedures          99343 non-null int64\n",
      "num_procedures              99343 non-null int64\n",
      "num_medications             99343 non-null int64\n",
      "number_outpatient           99343 non-null int64\n",
      "number_emergency            99343 non-null int64\n",
      "number_inpatient            99343 non-null int64\n",
      "diag_1                      99323 non-null object\n",
      "diag_2                      98987 non-null object\n",
      "diag_3                      97924 non-null object\n",
      "number_diagnoses            99343 non-null int64\n",
      "max_glu_serum               99343 non-null object\n",
      "A1Cresult                   99343 non-null object\n",
      "metformin                   99343 non-null object\n",
      "repaglinide                 99343 non-null object\n",
      "nateglinide                 99343 non-null object\n",
      "chlorpropamide              99343 non-null object\n",
      "glimepiride                 99343 non-null object\n",
      "acetohexamide               99343 non-null object\n",
      "glipizide                   99343 non-null object\n",
      "glyburide                   99343 non-null object\n",
      "tolbutamide                 99343 non-null object\n",
      "pioglitazone                99343 non-null object\n",
      "rosiglitazone               99343 non-null object\n",
      "acarbose                    99343 non-null object\n",
      "miglitol                    99343 non-null object\n",
      "troglitazone                99343 non-null object\n",
      "tolazamide                  99343 non-null object\n",
      "examide                     99343 non-null object\n",
      "citoglipton                 99343 non-null object\n",
      "insulin                     99343 non-null object\n",
      "glyburide-metformin         99343 non-null object\n",
      "glipizide-metformin         99343 non-null object\n",
      "glimepiride-pioglitazone    99343 non-null object\n",
      "metformin-rosiglitazone     99343 non-null object\n",
      "metformin-pioglitazone      99343 non-null object\n",
      "change                      99343 non-null object\n",
      "diabetesMed                 99343 non-null object\n",
      "readmitted                  99343 non-null object\n",
      "readmission_label           99343 non-null int32\n",
      "dtypes: int32(2), int64(12), object(34)\n",
      "memory usage: 36.4+ MB\n"
     ]
    }
   ],
   "source": [
    "diabetic_data.info()"
   ]
  },
  {
   "cell_type": "markdown",
   "metadata": {},
   "source": [
    "#Normalization of the data,\n",
    "\n",
    "listnormal = ['time_in_hospital', 'num_lab_procedures', 'num_procedures', 'num_medications',\n",
    "                     'number_outpatient', 'number_emergency', 'number_inpatient', 'number_diagnoses']\n",
    "\n",
    "from sklearn.preprocessing import StandardScaler\n",
    "\n",
    "normal = StandardScaler()\n",
    "\n",
    "diabetic_data[listnormal] = normal.fit_transform(diabetic_data[listnormal])\n",
    "\n",
    "diabetic_data.describe()"
   ]
  },
  {
   "cell_type": "code",
   "execution_count": 24,
   "metadata": {},
   "outputs": [],
   "source": [
    "# Using Panda's get_dummies over  Sklearn's OneHotEncoder()as most of the variables are strings(objects)\n",
    "# converting int variables to str first\n",
    "\n",
    "cols_num_to_str = ['admission_type_id', 'discharge_disposition_id', 'admission_source_id']\n",
    "diabetic_data[cols_num_to_str] = diabetic_data[cols_num_to_str].astype('str')\n"
   ]
  },
  {
   "cell_type": "code",
   "execution_count": 25,
   "metadata": {},
   "outputs": [],
   "source": [
    "#collate all the categorical variables\n",
    "diabetic_data_cate = pd.get_dummies(diabetic_data[cols_cate + cols_num_to_str + ['medical_specialty']],drop_first = True)"
   ]
  },
  {
   "cell_type": "code",
   "execution_count": 26,
   "metadata": {},
   "outputs": [
    {
     "data": {
      "text/html": [
       "<div>\n",
       "<style scoped>\n",
       "    .dataframe tbody tr th:only-of-type {\n",
       "        vertical-align: middle;\n",
       "    }\n",
       "\n",
       "    .dataframe tbody tr th {\n",
       "        vertical-align: top;\n",
       "    }\n",
       "\n",
       "    .dataframe thead th {\n",
       "        text-align: right;\n",
       "    }\n",
       "</style>\n",
       "<table border=\"1\" class=\"dataframe\">\n",
       "  <thead>\n",
       "    <tr style=\"text-align: right;\">\n",
       "      <th></th>\n",
       "      <th>race_Asian</th>\n",
       "      <th>race_Caucasian</th>\n",
       "      <th>race_Hispanic</th>\n",
       "      <th>race_Other</th>\n",
       "      <th>race_UNK</th>\n",
       "      <th>gender_Male</th>\n",
       "      <th>gender_Unknown/Invalid</th>\n",
       "      <th>max_glu_serum_&gt;300</th>\n",
       "      <th>max_glu_serum_None</th>\n",
       "      <th>max_glu_serum_Norm</th>\n",
       "      <th>...</th>\n",
       "      <th>medical_specialty_Orthopedics-Reconstructive</th>\n",
       "      <th>medical_specialty_Other</th>\n",
       "      <th>medical_specialty_Pediatrics</th>\n",
       "      <th>medical_specialty_PhysicalMedicineandRehabilitation</th>\n",
       "      <th>medical_specialty_Psychiatry</th>\n",
       "      <th>medical_specialty_Pulmonology</th>\n",
       "      <th>medical_specialty_Radiologist</th>\n",
       "      <th>medical_specialty_Surgery-Cardiovascular/Thoracic</th>\n",
       "      <th>medical_specialty_Surgery-General</th>\n",
       "      <th>medical_specialty_Urology</th>\n",
       "    </tr>\n",
       "    <tr>\n",
       "      <th>encounter_id</th>\n",
       "      <th></th>\n",
       "      <th></th>\n",
       "      <th></th>\n",
       "      <th></th>\n",
       "      <th></th>\n",
       "      <th></th>\n",
       "      <th></th>\n",
       "      <th></th>\n",
       "      <th></th>\n",
       "      <th></th>\n",
       "      <th></th>\n",
       "      <th></th>\n",
       "      <th></th>\n",
       "      <th></th>\n",
       "      <th></th>\n",
       "      <th></th>\n",
       "      <th></th>\n",
       "      <th></th>\n",
       "      <th></th>\n",
       "      <th></th>\n",
       "      <th></th>\n",
       "    </tr>\n",
       "  </thead>\n",
       "  <tbody>\n",
       "    <tr>\n",
       "      <th>2278392</th>\n",
       "      <td>0</td>\n",
       "      <td>1</td>\n",
       "      <td>0</td>\n",
       "      <td>0</td>\n",
       "      <td>0</td>\n",
       "      <td>0</td>\n",
       "      <td>0</td>\n",
       "      <td>0</td>\n",
       "      <td>1</td>\n",
       "      <td>0</td>\n",
       "      <td>...</td>\n",
       "      <td>0</td>\n",
       "      <td>1</td>\n",
       "      <td>0</td>\n",
       "      <td>0</td>\n",
       "      <td>0</td>\n",
       "      <td>0</td>\n",
       "      <td>0</td>\n",
       "      <td>0</td>\n",
       "      <td>0</td>\n",
       "      <td>0</td>\n",
       "    </tr>\n",
       "    <tr>\n",
       "      <th>149190</th>\n",
       "      <td>0</td>\n",
       "      <td>1</td>\n",
       "      <td>0</td>\n",
       "      <td>0</td>\n",
       "      <td>0</td>\n",
       "      <td>0</td>\n",
       "      <td>0</td>\n",
       "      <td>0</td>\n",
       "      <td>1</td>\n",
       "      <td>0</td>\n",
       "      <td>...</td>\n",
       "      <td>0</td>\n",
       "      <td>1</td>\n",
       "      <td>0</td>\n",
       "      <td>0</td>\n",
       "      <td>0</td>\n",
       "      <td>0</td>\n",
       "      <td>0</td>\n",
       "      <td>0</td>\n",
       "      <td>0</td>\n",
       "      <td>0</td>\n",
       "    </tr>\n",
       "    <tr>\n",
       "      <th>64410</th>\n",
       "      <td>0</td>\n",
       "      <td>0</td>\n",
       "      <td>0</td>\n",
       "      <td>0</td>\n",
       "      <td>0</td>\n",
       "      <td>0</td>\n",
       "      <td>0</td>\n",
       "      <td>0</td>\n",
       "      <td>1</td>\n",
       "      <td>0</td>\n",
       "      <td>...</td>\n",
       "      <td>0</td>\n",
       "      <td>1</td>\n",
       "      <td>0</td>\n",
       "      <td>0</td>\n",
       "      <td>0</td>\n",
       "      <td>0</td>\n",
       "      <td>0</td>\n",
       "      <td>0</td>\n",
       "      <td>0</td>\n",
       "      <td>0</td>\n",
       "    </tr>\n",
       "    <tr>\n",
       "      <th>500364</th>\n",
       "      <td>0</td>\n",
       "      <td>1</td>\n",
       "      <td>0</td>\n",
       "      <td>0</td>\n",
       "      <td>0</td>\n",
       "      <td>1</td>\n",
       "      <td>0</td>\n",
       "      <td>0</td>\n",
       "      <td>1</td>\n",
       "      <td>0</td>\n",
       "      <td>...</td>\n",
       "      <td>0</td>\n",
       "      <td>1</td>\n",
       "      <td>0</td>\n",
       "      <td>0</td>\n",
       "      <td>0</td>\n",
       "      <td>0</td>\n",
       "      <td>0</td>\n",
       "      <td>0</td>\n",
       "      <td>0</td>\n",
       "      <td>0</td>\n",
       "    </tr>\n",
       "    <tr>\n",
       "      <th>16680</th>\n",
       "      <td>0</td>\n",
       "      <td>1</td>\n",
       "      <td>0</td>\n",
       "      <td>0</td>\n",
       "      <td>0</td>\n",
       "      <td>1</td>\n",
       "      <td>0</td>\n",
       "      <td>0</td>\n",
       "      <td>1</td>\n",
       "      <td>0</td>\n",
       "      <td>...</td>\n",
       "      <td>0</td>\n",
       "      <td>1</td>\n",
       "      <td>0</td>\n",
       "      <td>0</td>\n",
       "      <td>0</td>\n",
       "      <td>0</td>\n",
       "      <td>0</td>\n",
       "      <td>0</td>\n",
       "      <td>0</td>\n",
       "      <td>0</td>\n",
       "    </tr>\n",
       "  </tbody>\n",
       "</table>\n",
       "<p>5 rows × 123 columns</p>\n",
       "</div>"
      ],
      "text/plain": [
       "              race_Asian  race_Caucasian  race_Hispanic  race_Other  race_UNK  \\\n",
       "encounter_id                                                                    \n",
       "2278392                0               1              0           0         0   \n",
       "149190                 0               1              0           0         0   \n",
       "64410                  0               0              0           0         0   \n",
       "500364                 0               1              0           0         0   \n",
       "16680                  0               1              0           0         0   \n",
       "\n",
       "              gender_Male  gender_Unknown/Invalid  max_glu_serum_>300  \\\n",
       "encounter_id                                                            \n",
       "2278392                 0                       0                   0   \n",
       "149190                  0                       0                   0   \n",
       "64410                   0                       0                   0   \n",
       "500364                  1                       0                   0   \n",
       "16680                   1                       0                   0   \n",
       "\n",
       "              max_glu_serum_None  max_glu_serum_Norm  \\\n",
       "encounter_id                                           \n",
       "2278392                        1                   0   \n",
       "149190                         1                   0   \n",
       "64410                          1                   0   \n",
       "500364                         1                   0   \n",
       "16680                          1                   0   \n",
       "\n",
       "                        ...              \\\n",
       "encounter_id            ...               \n",
       "2278392                 ...               \n",
       "149190                  ...               \n",
       "64410                   ...               \n",
       "500364                  ...               \n",
       "16680                   ...               \n",
       "\n",
       "              medical_specialty_Orthopedics-Reconstructive  \\\n",
       "encounter_id                                                 \n",
       "2278392                                                  0   \n",
       "149190                                                   0   \n",
       "64410                                                    0   \n",
       "500364                                                   0   \n",
       "16680                                                    0   \n",
       "\n",
       "              medical_specialty_Other  medical_specialty_Pediatrics  \\\n",
       "encounter_id                                                          \n",
       "2278392                             1                             0   \n",
       "149190                              1                             0   \n",
       "64410                               1                             0   \n",
       "500364                              1                             0   \n",
       "16680                               1                             0   \n",
       "\n",
       "              medical_specialty_PhysicalMedicineandRehabilitation  \\\n",
       "encounter_id                                                        \n",
       "2278392                                                       0     \n",
       "149190                                                        0     \n",
       "64410                                                         0     \n",
       "500364                                                        0     \n",
       "16680                                                         0     \n",
       "\n",
       "              medical_specialty_Psychiatry  medical_specialty_Pulmonology  \\\n",
       "encounter_id                                                                \n",
       "2278392                                  0                              0   \n",
       "149190                                   0                              0   \n",
       "64410                                    0                              0   \n",
       "500364                                   0                              0   \n",
       "16680                                    0                              0   \n",
       "\n",
       "              medical_specialty_Radiologist  \\\n",
       "encounter_id                                  \n",
       "2278392                                   0   \n",
       "149190                                    0   \n",
       "64410                                     0   \n",
       "500364                                    0   \n",
       "16680                                     0   \n",
       "\n",
       "              medical_specialty_Surgery-Cardiovascular/Thoracic  \\\n",
       "encounter_id                                                      \n",
       "2278392                                                       0   \n",
       "149190                                                        0   \n",
       "64410                                                         0   \n",
       "500364                                                        0   \n",
       "16680                                                         0   \n",
       "\n",
       "              medical_specialty_Surgery-General  medical_specialty_Urology  \n",
       "encounter_id                                                                \n",
       "2278392                                       0                          0  \n",
       "149190                                        0                          0  \n",
       "64410                                         0                          0  \n",
       "500364                                        0                          0  \n",
       "16680                                         0                          0  \n",
       "\n",
       "[5 rows x 123 columns]"
      ]
     },
     "execution_count": 26,
     "metadata": {},
     "output_type": "execute_result"
    }
   ],
   "source": [
    "diabetic_data_cate.head()"
   ]
  },
  {
   "cell_type": "code",
   "execution_count": 27,
   "metadata": {},
   "outputs": [
    {
     "data": {
      "text/plain": [
       "race_Asian                                             uint8\n",
       "race_Caucasian                                         uint8\n",
       "race_Hispanic                                          uint8\n",
       "race_Other                                             uint8\n",
       "race_UNK                                               uint8\n",
       "gender_Male                                            uint8\n",
       "gender_Unknown/Invalid                                 uint8\n",
       "max_glu_serum_>300                                     uint8\n",
       "max_glu_serum_None                                     uint8\n",
       "max_glu_serum_Norm                                     uint8\n",
       "A1Cresult_>8                                           uint8\n",
       "A1Cresult_None                                         uint8\n",
       "A1Cresult_Norm                                         uint8\n",
       "metformin_No                                           uint8\n",
       "metformin_Steady                                       uint8\n",
       "metformin_Up                                           uint8\n",
       "repaglinide_No                                         uint8\n",
       "repaglinide_Steady                                     uint8\n",
       "repaglinide_Up                                         uint8\n",
       "nateglinide_No                                         uint8\n",
       "nateglinide_Steady                                     uint8\n",
       "nateglinide_Up                                         uint8\n",
       "chlorpropamide_No                                      uint8\n",
       "chlorpropamide_Steady                                  uint8\n",
       "chlorpropamide_Up                                      uint8\n",
       "glimepiride_No                                         uint8\n",
       "glimepiride_Steady                                     uint8\n",
       "glimepiride_Up                                         uint8\n",
       "acetohexamide_Steady                                   uint8\n",
       "glipizide_No                                           uint8\n",
       "                                                       ...  \n",
       "admission_source_id_14                                 uint8\n",
       "admission_source_id_17                                 uint8\n",
       "admission_source_id_2                                  uint8\n",
       "admission_source_id_20                                 uint8\n",
       "admission_source_id_22                                 uint8\n",
       "admission_source_id_25                                 uint8\n",
       "admission_source_id_3                                  uint8\n",
       "admission_source_id_4                                  uint8\n",
       "admission_source_id_5                                  uint8\n",
       "admission_source_id_6                                  uint8\n",
       "admission_source_id_7                                  uint8\n",
       "admission_source_id_8                                  uint8\n",
       "admission_source_id_9                                  uint8\n",
       "medical_specialty_Emergency/Trauma                     uint8\n",
       "medical_specialty_Family/GeneralPractice               uint8\n",
       "medical_specialty_InternalMedicine                     uint8\n",
       "medical_specialty_Nephrology                           uint8\n",
       "medical_specialty_ObstetricsandGynecology              uint8\n",
       "medical_specialty_Oncology                             uint8\n",
       "medical_specialty_Orthopedics                          uint8\n",
       "medical_specialty_Orthopedics-Reconstructive           uint8\n",
       "medical_specialty_Other                                uint8\n",
       "medical_specialty_Pediatrics                           uint8\n",
       "medical_specialty_PhysicalMedicineandRehabilitation    uint8\n",
       "medical_specialty_Psychiatry                           uint8\n",
       "medical_specialty_Pulmonology                          uint8\n",
       "medical_specialty_Radiologist                          uint8\n",
       "medical_specialty_Surgery-Cardiovascular/Thoracic      uint8\n",
       "medical_specialty_Surgery-General                      uint8\n",
       "medical_specialty_Urology                              uint8\n",
       "Length: 123, dtype: object"
      ]
     },
     "execution_count": 27,
     "metadata": {},
     "output_type": "execute_result"
    }
   ],
   "source": [
    "diabetic_data_cate.dtypes"
   ]
  },
  {
   "cell_type": "code",
   "execution_count": 28,
   "metadata": {},
   "outputs": [
    {
     "name": "stdout",
     "output_type": "stream",
     "text": [
      "['patient_nbr' 'race' 'gender' 'age' 'admission_type_id'\n",
      " 'discharge_disposition_id' 'admission_source_id' 'time_in_hospital'\n",
      " 'medical_specialty' 'num_lab_procedures' 'num_procedures'\n",
      " 'num_medications' 'number_outpatient' 'number_emergency'\n",
      " 'number_inpatient' 'diag_1' 'diag_2' 'diag_3' 'number_diagnoses'\n",
      " 'max_glu_serum' 'A1Cresult' 'metformin' 'repaglinide' 'nateglinide'\n",
      " 'chlorpropamide' 'glimepiride' 'acetohexamide' 'glipizide' 'glyburide'\n",
      " 'tolbutamide' 'pioglitazone' 'rosiglitazone' 'acarbose' 'miglitol'\n",
      " 'troglitazone' 'tolazamide' 'examide' 'citoglipton' 'insulin'\n",
      " 'glyburide-metformin' 'glipizide-metformin' 'glimepiride-pioglitazone'\n",
      " 'metformin-rosiglitazone' 'metformin-pioglitazone' 'change' 'diabetesMed'\n",
      " 'readmitted' 'readmission_label' 'race_Asian' 'race_Caucasian'\n",
      " 'race_Hispanic' 'race_Other' 'race_UNK' 'gender_Male'\n",
      " 'gender_Unknown/Invalid' 'max_glu_serum_>300' 'max_glu_serum_None'\n",
      " 'max_glu_serum_Norm' 'A1Cresult_>8' 'A1Cresult_None' 'A1Cresult_Norm'\n",
      " 'metformin_No' 'metformin_Steady' 'metformin_Up' 'repaglinide_No'\n",
      " 'repaglinide_Steady' 'repaglinide_Up' 'nateglinide_No'\n",
      " 'nateglinide_Steady' 'nateglinide_Up' 'chlorpropamide_No'\n",
      " 'chlorpropamide_Steady' 'chlorpropamide_Up' 'glimepiride_No'\n",
      " 'glimepiride_Steady' 'glimepiride_Up' 'acetohexamide_Steady'\n",
      " 'glipizide_No' 'glipizide_Steady' 'glipizide_Up' 'glyburide_No'\n",
      " 'glyburide_Steady' 'glyburide_Up' 'tolbutamide_Steady' 'pioglitazone_No'\n",
      " 'pioglitazone_Steady' 'pioglitazone_Up' 'rosiglitazone_No'\n",
      " 'rosiglitazone_Steady' 'rosiglitazone_Up' 'acarbose_No' 'acarbose_Steady'\n",
      " 'acarbose_Up' 'miglitol_No' 'miglitol_Steady' 'miglitol_Up'\n",
      " 'troglitazone_Steady' 'tolazamide_Steady' 'tolazamide_Up' 'insulin_No'\n",
      " 'insulin_Steady' 'insulin_Up' 'glyburide-metformin_No'\n",
      " 'glyburide-metformin_Steady' 'glyburide-metformin_Up'\n",
      " 'glipizide-metformin_Steady' 'glimepiride-pioglitazone_Steady'\n",
      " 'metformin-rosiglitazone_Steady' 'metformin-pioglitazone_Steady'\n",
      " 'change_No' 'diabetesMed_Yes' 'admission_type_id_2' 'admission_type_id_3'\n",
      " 'admission_type_id_4' 'admission_type_id_5' 'admission_type_id_6'\n",
      " 'admission_type_id_7' 'admission_type_id_8' 'discharge_disposition_id_10'\n",
      " 'discharge_disposition_id_12' 'discharge_disposition_id_15'\n",
      " 'discharge_disposition_id_16' 'discharge_disposition_id_17'\n",
      " 'discharge_disposition_id_18' 'discharge_disposition_id_2'\n",
      " 'discharge_disposition_id_22' 'discharge_disposition_id_23'\n",
      " 'discharge_disposition_id_24' 'discharge_disposition_id_25'\n",
      " 'discharge_disposition_id_27' 'discharge_disposition_id_28'\n",
      " 'discharge_disposition_id_3' 'discharge_disposition_id_4'\n",
      " 'discharge_disposition_id_5' 'discharge_disposition_id_6'\n",
      " 'discharge_disposition_id_7' 'discharge_disposition_id_8'\n",
      " 'discharge_disposition_id_9' 'admission_source_id_10'\n",
      " 'admission_source_id_11' 'admission_source_id_13'\n",
      " 'admission_source_id_14' 'admission_source_id_17' 'admission_source_id_2'\n",
      " 'admission_source_id_20' 'admission_source_id_22'\n",
      " 'admission_source_id_25' 'admission_source_id_3' 'admission_source_id_4'\n",
      " 'admission_source_id_5' 'admission_source_id_6' 'admission_source_id_7'\n",
      " 'admission_source_id_8' 'admission_source_id_9'\n",
      " 'medical_specialty_Emergency/Trauma'\n",
      " 'medical_specialty_Family/GeneralPractice'\n",
      " 'medical_specialty_InternalMedicine' 'medical_specialty_Nephrology'\n",
      " 'medical_specialty_ObstetricsandGynecology' 'medical_specialty_Oncology'\n",
      " 'medical_specialty_Orthopedics'\n",
      " 'medical_specialty_Orthopedics-Reconstructive' 'medical_specialty_Other'\n",
      " 'medical_specialty_Pediatrics'\n",
      " 'medical_specialty_PhysicalMedicineandRehabilitation'\n",
      " 'medical_specialty_Psychiatry' 'medical_specialty_Pulmonology'\n",
      " 'medical_specialty_Radiologist'\n",
      " 'medical_specialty_Surgery-Cardiovascular/Thoracic'\n",
      " 'medical_specialty_Surgery-General' 'medical_specialty_Urology']\n"
     ]
    }
   ],
   "source": [
    "dd = pd.concat([diabetic_data,diabetic_data_cate], axis = 1)\n",
    "cols_all_cat = list(diabetic_data_cate.columns)\n",
    "print(dd.columns.values)\n"
   ]
  },
  {
   "cell_type": "code",
   "execution_count": 29,
   "metadata": {},
   "outputs": [
    {
     "data": {
      "text/html": [
       "<div>\n",
       "<style scoped>\n",
       "    .dataframe tbody tr th:only-of-type {\n",
       "        vertical-align: middle;\n",
       "    }\n",
       "\n",
       "    .dataframe tbody tr th {\n",
       "        vertical-align: top;\n",
       "    }\n",
       "\n",
       "    .dataframe thead th {\n",
       "        text-align: right;\n",
       "    }\n",
       "</style>\n",
       "<table border=\"1\" class=\"dataframe\">\n",
       "  <thead>\n",
       "    <tr style=\"text-align: right;\">\n",
       "      <th></th>\n",
       "      <th>patient_nbr</th>\n",
       "      <th>race</th>\n",
       "      <th>gender</th>\n",
       "      <th>age</th>\n",
       "      <th>admission_type_id</th>\n",
       "      <th>discharge_disposition_id</th>\n",
       "      <th>admission_source_id</th>\n",
       "      <th>time_in_hospital</th>\n",
       "      <th>medical_specialty</th>\n",
       "      <th>num_lab_procedures</th>\n",
       "      <th>...</th>\n",
       "      <th>medical_specialty_Orthopedics-Reconstructive</th>\n",
       "      <th>medical_specialty_Other</th>\n",
       "      <th>medical_specialty_Pediatrics</th>\n",
       "      <th>medical_specialty_PhysicalMedicineandRehabilitation</th>\n",
       "      <th>medical_specialty_Psychiatry</th>\n",
       "      <th>medical_specialty_Pulmonology</th>\n",
       "      <th>medical_specialty_Radiologist</th>\n",
       "      <th>medical_specialty_Surgery-Cardiovascular/Thoracic</th>\n",
       "      <th>medical_specialty_Surgery-General</th>\n",
       "      <th>medical_specialty_Urology</th>\n",
       "    </tr>\n",
       "    <tr>\n",
       "      <th>encounter_id</th>\n",
       "      <th></th>\n",
       "      <th></th>\n",
       "      <th></th>\n",
       "      <th></th>\n",
       "      <th></th>\n",
       "      <th></th>\n",
       "      <th></th>\n",
       "      <th></th>\n",
       "      <th></th>\n",
       "      <th></th>\n",
       "      <th></th>\n",
       "      <th></th>\n",
       "      <th></th>\n",
       "      <th></th>\n",
       "      <th></th>\n",
       "      <th></th>\n",
       "      <th></th>\n",
       "      <th></th>\n",
       "      <th></th>\n",
       "      <th></th>\n",
       "      <th></th>\n",
       "    </tr>\n",
       "  </thead>\n",
       "  <tbody>\n",
       "    <tr>\n",
       "      <th>2278392</th>\n",
       "      <td>8222157</td>\n",
       "      <td>Caucasian</td>\n",
       "      <td>Female</td>\n",
       "      <td>5</td>\n",
       "      <td>6</td>\n",
       "      <td>25</td>\n",
       "      <td>1</td>\n",
       "      <td>1</td>\n",
       "      <td>Other</td>\n",
       "      <td>41</td>\n",
       "      <td>...</td>\n",
       "      <td>0</td>\n",
       "      <td>1</td>\n",
       "      <td>0</td>\n",
       "      <td>0</td>\n",
       "      <td>0</td>\n",
       "      <td>0</td>\n",
       "      <td>0</td>\n",
       "      <td>0</td>\n",
       "      <td>0</td>\n",
       "      <td>0</td>\n",
       "    </tr>\n",
       "    <tr>\n",
       "      <th>149190</th>\n",
       "      <td>55629189</td>\n",
       "      <td>Caucasian</td>\n",
       "      <td>Female</td>\n",
       "      <td>15</td>\n",
       "      <td>1</td>\n",
       "      <td>1</td>\n",
       "      <td>7</td>\n",
       "      <td>3</td>\n",
       "      <td>Other</td>\n",
       "      <td>59</td>\n",
       "      <td>...</td>\n",
       "      <td>0</td>\n",
       "      <td>1</td>\n",
       "      <td>0</td>\n",
       "      <td>0</td>\n",
       "      <td>0</td>\n",
       "      <td>0</td>\n",
       "      <td>0</td>\n",
       "      <td>0</td>\n",
       "      <td>0</td>\n",
       "      <td>0</td>\n",
       "    </tr>\n",
       "    <tr>\n",
       "      <th>64410</th>\n",
       "      <td>86047875</td>\n",
       "      <td>AfricanAmerican</td>\n",
       "      <td>Female</td>\n",
       "      <td>25</td>\n",
       "      <td>1</td>\n",
       "      <td>1</td>\n",
       "      <td>7</td>\n",
       "      <td>2</td>\n",
       "      <td>Other</td>\n",
       "      <td>11</td>\n",
       "      <td>...</td>\n",
       "      <td>0</td>\n",
       "      <td>1</td>\n",
       "      <td>0</td>\n",
       "      <td>0</td>\n",
       "      <td>0</td>\n",
       "      <td>0</td>\n",
       "      <td>0</td>\n",
       "      <td>0</td>\n",
       "      <td>0</td>\n",
       "      <td>0</td>\n",
       "    </tr>\n",
       "    <tr>\n",
       "      <th>500364</th>\n",
       "      <td>82442376</td>\n",
       "      <td>Caucasian</td>\n",
       "      <td>Male</td>\n",
       "      <td>35</td>\n",
       "      <td>1</td>\n",
       "      <td>1</td>\n",
       "      <td>7</td>\n",
       "      <td>2</td>\n",
       "      <td>Other</td>\n",
       "      <td>44</td>\n",
       "      <td>...</td>\n",
       "      <td>0</td>\n",
       "      <td>1</td>\n",
       "      <td>0</td>\n",
       "      <td>0</td>\n",
       "      <td>0</td>\n",
       "      <td>0</td>\n",
       "      <td>0</td>\n",
       "      <td>0</td>\n",
       "      <td>0</td>\n",
       "      <td>0</td>\n",
       "    </tr>\n",
       "    <tr>\n",
       "      <th>16680</th>\n",
       "      <td>42519267</td>\n",
       "      <td>Caucasian</td>\n",
       "      <td>Male</td>\n",
       "      <td>45</td>\n",
       "      <td>1</td>\n",
       "      <td>1</td>\n",
       "      <td>7</td>\n",
       "      <td>1</td>\n",
       "      <td>Other</td>\n",
       "      <td>51</td>\n",
       "      <td>...</td>\n",
       "      <td>0</td>\n",
       "      <td>1</td>\n",
       "      <td>0</td>\n",
       "      <td>0</td>\n",
       "      <td>0</td>\n",
       "      <td>0</td>\n",
       "      <td>0</td>\n",
       "      <td>0</td>\n",
       "      <td>0</td>\n",
       "      <td>0</td>\n",
       "    </tr>\n",
       "  </tbody>\n",
       "</table>\n",
       "<p>5 rows × 171 columns</p>\n",
       "</div>"
      ],
      "text/plain": [
       "              patient_nbr             race  gender  age admission_type_id  \\\n",
       "encounter_id                                                                \n",
       "2278392           8222157        Caucasian  Female    5                 6   \n",
       "149190           55629189        Caucasian  Female   15                 1   \n",
       "64410            86047875  AfricanAmerican  Female   25                 1   \n",
       "500364           82442376        Caucasian    Male   35                 1   \n",
       "16680            42519267        Caucasian    Male   45                 1   \n",
       "\n",
       "             discharge_disposition_id admission_source_id  time_in_hospital  \\\n",
       "encounter_id                                                                  \n",
       "2278392                            25                   1                 1   \n",
       "149190                              1                   7                 3   \n",
       "64410                               1                   7                 2   \n",
       "500364                              1                   7                 2   \n",
       "16680                               1                   7                 1   \n",
       "\n",
       "             medical_specialty  num_lab_procedures            ...             \\\n",
       "encounter_id                                                  ...              \n",
       "2278392                  Other                  41            ...              \n",
       "149190                   Other                  59            ...              \n",
       "64410                    Other                  11            ...              \n",
       "500364                   Other                  44            ...              \n",
       "16680                    Other                  51            ...              \n",
       "\n",
       "              medical_specialty_Orthopedics-Reconstructive  \\\n",
       "encounter_id                                                 \n",
       "2278392                                                  0   \n",
       "149190                                                   0   \n",
       "64410                                                    0   \n",
       "500364                                                   0   \n",
       "16680                                                    0   \n",
       "\n",
       "              medical_specialty_Other  medical_specialty_Pediatrics  \\\n",
       "encounter_id                                                          \n",
       "2278392                             1                             0   \n",
       "149190                              1                             0   \n",
       "64410                               1                             0   \n",
       "500364                              1                             0   \n",
       "16680                               1                             0   \n",
       "\n",
       "              medical_specialty_PhysicalMedicineandRehabilitation  \\\n",
       "encounter_id                                                        \n",
       "2278392                                                       0     \n",
       "149190                                                        0     \n",
       "64410                                                         0     \n",
       "500364                                                        0     \n",
       "16680                                                         0     \n",
       "\n",
       "              medical_specialty_Psychiatry medical_specialty_Pulmonology  \\\n",
       "encounter_id                                                               \n",
       "2278392                                  0                             0   \n",
       "149190                                   0                             0   \n",
       "64410                                    0                             0   \n",
       "500364                                   0                             0   \n",
       "16680                                    0                             0   \n",
       "\n",
       "             medical_specialty_Radiologist  \\\n",
       "encounter_id                                 \n",
       "2278392                                  0   \n",
       "149190                                   0   \n",
       "64410                                    0   \n",
       "500364                                   0   \n",
       "16680                                    0   \n",
       "\n",
       "             medical_specialty_Surgery-Cardiovascular/Thoracic  \\\n",
       "encounter_id                                                     \n",
       "2278392                                                      0   \n",
       "149190                                                       0   \n",
       "64410                                                        0   \n",
       "500364                                                       0   \n",
       "16680                                                        0   \n",
       "\n",
       "              medical_specialty_Surgery-General medical_specialty_Urology  \n",
       "encounter_id                                                               \n",
       "2278392                                       0                         0  \n",
       "149190                                        0                         0  \n",
       "64410                                         0                         0  \n",
       "500364                                        0                         0  \n",
       "16680                                         0                         0  \n",
       "\n",
       "[5 rows x 171 columns]"
      ]
     },
     "execution_count": 29,
     "metadata": {},
     "output_type": "execute_result"
    }
   ],
   "source": [
    "dd.head()\n"
   ]
  },
  {
   "cell_type": "markdown",
   "metadata": {},
   "source": [
    "#Let's try to see how the age and number of medicines are correlated\n",
    "sortage = eda_data.sort_values(by = 'age')\n",
    "x = sns.stripplot(x = \"age\", y = \"num_medications\", data = sortage, color = 'blue')\n",
    "sns.despine() #remove top and right axes\n",
    "x.figure.set_size_inches(10, 6)\n",
    "x.set_xlabel('Age')\n",
    "x.set_ylabel('Number of Medications')\n",
    "x.axes.set_title('Number of Medications vs. Age')\n",
    "plt.show()"
   ]
  },
  {
   "cell_type": "code",
   "execution_count": 30,
   "metadata": {},
   "outputs": [
    {
     "data": {
      "image/png": "[encoded data removed]",
      "text/plain": [
       "<Figure size 720x432 with 1 Axes>"
      ]
     },
     "metadata": {},
     "output_type": "display_data"
    }
   ],
   "source": [
    "#Let's try to see how the age and number of medicines are correlated\n",
    "sortage = dd.sort_values(by = 'age')\n",
    "x = sns.stripplot(x = \"age\", y = \"num_medications\", data = sortage, color = 'blue')\n",
    "sns.despine() #remove top and right axes\n",
    "x.figure.set_size_inches(10, 6)\n",
    "x.set_xlabel('Age')\n",
    "x.set_ylabel('Number of Medications')\n",
    "x.axes.set_title('Number of Medications vs. Age')\n",
    "plt.show()"
   ]
  },
  {
   "cell_type": "markdown",
   "metadata": {},
   "source": [
    "#Age and Readmissions,\n",
    "plot1 = sns.countplot(x = 'age', hue = 'readmitted', data = eda_data) \n",
    "\n",
    "sns.despine()\n",
    "plot1.figure.set_size_inches(7, 6.5)\n",
    "plot1.legend(title = 'Readmitted patients', labels = ('No', 'Admitted Under 30 days', 'Admitted after 30 days'))\n",
    "plot1.axes.set_title('Readmissions Balance by Age')\n",
    "plt.show()"
   ]
  },
  {
   "cell_type": "code",
   "execution_count": 31,
   "metadata": {},
   "outputs": [
    {
     "data": {
      "image/png": "[encoded data removed]",
      "text/plain": [
       "<Figure size 504x468 with 1 Axes>"
      ]
     },
     "metadata": {},
     "output_type": "display_data"
    }
   ],
   "source": [
    "#Age and Readmissions,\n",
    "plot1 = sns.countplot(x = 'age', hue = 'readmitted', data = dd) \n",
    "\n",
    "sns.despine()\n",
    "plot1.figure.set_size_inches(7, 6.5)\n",
    "plot1.legend(title = 'Readmitted patients', labels = ('No', 'Admitted Under 30 days', 'Admitted after 30 days'))\n",
    "plot1.axes.set_title('Readmissions Balance by Age')\n",
    "plt.show()"
   ]
  },
  {
   "cell_type": "markdown",
   "metadata": {},
   "source": [
    "#Gender and Readmissions,\n",
    "plot1 = sns.countplot(x = 'gender', hue = 'readmitted', data = eda_data) \n",
    "\n",
    "sns.despine()\n",
    "plot1.figure.set_size_inches(7, 6.5)\n",
    "plot1.legend(title = 'Readmitted patients', labels = ('No', 'Admitted Under 30 days', 'Admitted after 30 days'))\n",
    "plot1.axes.set_title('Readmissions Balance by Gender')\n",
    "plt.show()"
   ]
  },
  {
   "cell_type": "code",
   "execution_count": 32,
   "metadata": {},
   "outputs": [
    {
     "data": {
      "image/png": "[encoded data removed]",
      "text/plain": [
       "<Figure size 504x468 with 1 Axes>"
      ]
     },
     "metadata": {},
     "output_type": "display_data"
    }
   ],
   "source": [
    "#Gender and Readmissions,\n",
    "plot1 = sns.countplot(x = 'gender', hue = 'readmitted', data = dd) \n",
    "\n",
    "sns.despine()\n",
    "plot1.figure.set_size_inches(7, 6.5)\n",
    "plot1.legend(title = 'Readmitted patients', labels = ('No', 'Admitted Under 30 days', 'Admitted after 30 days'))\n",
    "plot1.axes.set_title('Readmissions Balance by Gender')\n",
    "plt.show()"
   ]
  },
  {
   "cell_type": "code",
   "execution_count": 33,
   "metadata": {},
   "outputs": [
    {
     "data": {
      "image/png": "[encoded data removed]",
      "text/plain": [
       "<Figure size 1440x1080 with 16 Axes>"
      ]
     },
     "metadata": {},
     "output_type": "display_data"
    }
   ],
   "source": [
    "#Plotting the numerical variables in the dataset,\n",
    "\n",
    "%matplotlib inline\n",
    "import matplotlib.pyplot as plt\n",
    "eda_data.hist(bins=50, figsize=(20,15))\n",
    "plt.show()"
   ]
  },
  {
   "cell_type": "code",
   "execution_count": 34,
   "metadata": {},
   "outputs": [
    {
     "data": {
      "text/plain": [
       "<matplotlib.axes._subplots.AxesSubplot at 0x15642381978>"
      ]
     },
     "execution_count": 34,
     "metadata": {},
     "output_type": "execute_result"
    },
    {
     "data": {
      "image/png": "[encoded data removed]",
      "text/plain": [
       "<Figure size 1080x720 with 4 Axes>"
      ]
     },
     "metadata": {},
     "output_type": "display_data"
    }
   ],
   "source": [
    "#Exploring the categorical variables,\n",
    "\n",
    "import seaborn as sns\n",
    "\n",
    "fig, ax = plt.subplots(figsize=(15,10), ncols=2, nrows=2)\n",
    "\n",
    "sns.countplot(x=\"readmitted\", data=dd, ax=ax[0][0])\n",
    "sns.countplot(x=\"race\", data=dd, ax=ax[0][1])\n",
    "sns.countplot(x=\"gender\", data=dd, ax=ax[1][0])\n",
    "sns.countplot(x=\"age\", data=dd, ax=ax[1][1])"
   ]
  },
  {
   "cell_type": "code",
   "execution_count": 35,
   "metadata": {},
   "outputs": [
    {
     "name": "stdout",
     "output_type": "stream",
     "text": [
      "Total number of features: 132\n",
      "Numerical Features: 9\n",
      "Categorical Features: 123\n"
     ]
    }
   ],
   "source": [
    "\n",
    "print('Total number of features:', len(cols_nume + cols_all_cat ))\n",
    "print('Numerical Features:',len(cols_nume))\n",
    "print('Categorical Features:',len(cols_all_cat))\n"
   ]
  },
  {
   "cell_type": "code",
   "execution_count": 36,
   "metadata": {},
   "outputs": [
    {
     "data": {
      "text/plain": [
       "medical_specialty_Urology            0\n",
       "rosiglitazone_No                     0\n",
       "glimepiride_No                       0\n",
       "glimepiride_Steady                   0\n",
       "glimepiride_Up                       0\n",
       "acetohexamide_Steady                 0\n",
       "glipizide_No                         0\n",
       "glipizide_Steady                     0\n",
       "glipizide_Up                         0\n",
       "glyburide_No                         0\n",
       "glyburide_Steady                     0\n",
       "glyburide_Up                         0\n",
       "tolbutamide_Steady                   0\n",
       "pioglitazone_No                      0\n",
       "pioglitazone_Steady                  0\n",
       "pioglitazone_Up                      0\n",
       "rosiglitazone_Steady                 0\n",
       "medical_specialty_Surgery-General    0\n",
       "rosiglitazone_Up                     0\n",
       "acarbose_No                          0\n",
       "acarbose_Steady                      0\n",
       "acarbose_Up                          0\n",
       "miglitol_No                          0\n",
       "miglitol_Steady                      0\n",
       "miglitol_Up                          0\n",
       "troglitazone_Steady                  0\n",
       "tolazamide_Steady                    0\n",
       "tolazamide_Up                        0\n",
       "insulin_No                           0\n",
       "insulin_Steady                       0\n",
       "                                    ..\n",
       "metformin-rosiglitazone_Steady       0\n",
       "metformin-pioglitazone_Steady        0\n",
       "change_No                            0\n",
       "diabetesMed_Yes                      0\n",
       "admission_type_id_2                  0\n",
       "admission_type_id_3                  0\n",
       "admission_type_id_4                  0\n",
       "admission_type_id_5                  0\n",
       "admission_type_id_6                  0\n",
       "admission_type_id_7                  0\n",
       "admission_type_id_8                  0\n",
       "discharge_disposition_id_10          0\n",
       "discharge_disposition_id_12          0\n",
       "discharge_disposition_id_15          0\n",
       "discharge_disposition_id_16          0\n",
       "discharge_disposition_id_17          0\n",
       "discharge_disposition_id_18          0\n",
       "discharge_disposition_id_2           0\n",
       "discharge_disposition_id_22          0\n",
       "discharge_disposition_id_23          0\n",
       "discharge_disposition_id_24          0\n",
       "discharge_disposition_id_25          0\n",
       "discharge_disposition_id_27          0\n",
       "discharge_disposition_id_28          0\n",
       "discharge_disposition_id_3           0\n",
       "discharge_disposition_id_4           0\n",
       "discharge_disposition_id_5           0\n",
       "discharge_disposition_id_6           0\n",
       "discharge_disposition_id_7           0\n",
       "age                                  0\n",
       "Length: 132, dtype: int64"
      ]
     },
     "execution_count": 36,
     "metadata": {},
     "output_type": "execute_result"
    }
   ],
   "source": [
    "dd[cols_nume + cols_all_cat].isnull().sum().sort_values(ascending = False)"
   ]
  },
  {
   "cell_type": "code",
   "execution_count": 37,
   "metadata": {},
   "outputs": [],
   "source": [
    "\n",
    "#dd['readmission_label'] = (dd.readmitted == '<30').astype('int')\n",
    "dd['readmission_label'] = diabetic_data['readmission_label']"
   ]
  },
  {
   "cell_type": "code",
   "execution_count": 38,
   "metadata": {},
   "outputs": [
    {
     "data": {
      "text/html": [
       "<div>\n",
       "<style scoped>\n",
       "    .dataframe tbody tr th:only-of-type {\n",
       "        vertical-align: middle;\n",
       "    }\n",
       "\n",
       "    .dataframe tbody tr th {\n",
       "        vertical-align: top;\n",
       "    }\n",
       "\n",
       "    .dataframe thead th {\n",
       "        text-align: right;\n",
       "    }\n",
       "</style>\n",
       "<table border=\"1\" class=\"dataframe\">\n",
       "  <thead>\n",
       "    <tr style=\"text-align: right;\">\n",
       "      <th></th>\n",
       "      <th>patient_nbr</th>\n",
       "      <th>race</th>\n",
       "      <th>gender</th>\n",
       "      <th>age</th>\n",
       "      <th>admission_type_id</th>\n",
       "      <th>discharge_disposition_id</th>\n",
       "      <th>admission_source_id</th>\n",
       "      <th>time_in_hospital</th>\n",
       "      <th>medical_specialty</th>\n",
       "      <th>num_lab_procedures</th>\n",
       "      <th>...</th>\n",
       "      <th>medical_specialty_Orthopedics-Reconstructive</th>\n",
       "      <th>medical_specialty_Other</th>\n",
       "      <th>medical_specialty_Pediatrics</th>\n",
       "      <th>medical_specialty_PhysicalMedicineandRehabilitation</th>\n",
       "      <th>medical_specialty_Psychiatry</th>\n",
       "      <th>medical_specialty_Pulmonology</th>\n",
       "      <th>medical_specialty_Radiologist</th>\n",
       "      <th>medical_specialty_Surgery-Cardiovascular/Thoracic</th>\n",
       "      <th>medical_specialty_Surgery-General</th>\n",
       "      <th>medical_specialty_Urology</th>\n",
       "    </tr>\n",
       "    <tr>\n",
       "      <th>encounter_id</th>\n",
       "      <th></th>\n",
       "      <th></th>\n",
       "      <th></th>\n",
       "      <th></th>\n",
       "      <th></th>\n",
       "      <th></th>\n",
       "      <th></th>\n",
       "      <th></th>\n",
       "      <th></th>\n",
       "      <th></th>\n",
       "      <th></th>\n",
       "      <th></th>\n",
       "      <th></th>\n",
       "      <th></th>\n",
       "      <th></th>\n",
       "      <th></th>\n",
       "      <th></th>\n",
       "      <th></th>\n",
       "      <th></th>\n",
       "      <th></th>\n",
       "      <th></th>\n",
       "    </tr>\n",
       "  </thead>\n",
       "  <tbody>\n",
       "    <tr>\n",
       "      <th>2278392</th>\n",
       "      <td>8222157</td>\n",
       "      <td>Caucasian</td>\n",
       "      <td>Female</td>\n",
       "      <td>5</td>\n",
       "      <td>6</td>\n",
       "      <td>25</td>\n",
       "      <td>1</td>\n",
       "      <td>1</td>\n",
       "      <td>Other</td>\n",
       "      <td>41</td>\n",
       "      <td>...</td>\n",
       "      <td>0</td>\n",
       "      <td>1</td>\n",
       "      <td>0</td>\n",
       "      <td>0</td>\n",
       "      <td>0</td>\n",
       "      <td>0</td>\n",
       "      <td>0</td>\n",
       "      <td>0</td>\n",
       "      <td>0</td>\n",
       "      <td>0</td>\n",
       "    </tr>\n",
       "    <tr>\n",
       "      <th>149190</th>\n",
       "      <td>55629189</td>\n",
       "      <td>Caucasian</td>\n",
       "      <td>Female</td>\n",
       "      <td>15</td>\n",
       "      <td>1</td>\n",
       "      <td>1</td>\n",
       "      <td>7</td>\n",
       "      <td>3</td>\n",
       "      <td>Other</td>\n",
       "      <td>59</td>\n",
       "      <td>...</td>\n",
       "      <td>0</td>\n",
       "      <td>1</td>\n",
       "      <td>0</td>\n",
       "      <td>0</td>\n",
       "      <td>0</td>\n",
       "      <td>0</td>\n",
       "      <td>0</td>\n",
       "      <td>0</td>\n",
       "      <td>0</td>\n",
       "      <td>0</td>\n",
       "    </tr>\n",
       "    <tr>\n",
       "      <th>64410</th>\n",
       "      <td>86047875</td>\n",
       "      <td>AfricanAmerican</td>\n",
       "      <td>Female</td>\n",
       "      <td>25</td>\n",
       "      <td>1</td>\n",
       "      <td>1</td>\n",
       "      <td>7</td>\n",
       "      <td>2</td>\n",
       "      <td>Other</td>\n",
       "      <td>11</td>\n",
       "      <td>...</td>\n",
       "      <td>0</td>\n",
       "      <td>1</td>\n",
       "      <td>0</td>\n",
       "      <td>0</td>\n",
       "      <td>0</td>\n",
       "      <td>0</td>\n",
       "      <td>0</td>\n",
       "      <td>0</td>\n",
       "      <td>0</td>\n",
       "      <td>0</td>\n",
       "    </tr>\n",
       "    <tr>\n",
       "      <th>500364</th>\n",
       "      <td>82442376</td>\n",
       "      <td>Caucasian</td>\n",
       "      <td>Male</td>\n",
       "      <td>35</td>\n",
       "      <td>1</td>\n",
       "      <td>1</td>\n",
       "      <td>7</td>\n",
       "      <td>2</td>\n",
       "      <td>Other</td>\n",
       "      <td>44</td>\n",
       "      <td>...</td>\n",
       "      <td>0</td>\n",
       "      <td>1</td>\n",
       "      <td>0</td>\n",
       "      <td>0</td>\n",
       "      <td>0</td>\n",
       "      <td>0</td>\n",
       "      <td>0</td>\n",
       "      <td>0</td>\n",
       "      <td>0</td>\n",
       "      <td>0</td>\n",
       "    </tr>\n",
       "    <tr>\n",
       "      <th>16680</th>\n",
       "      <td>42519267</td>\n",
       "      <td>Caucasian</td>\n",
       "      <td>Male</td>\n",
       "      <td>45</td>\n",
       "      <td>1</td>\n",
       "      <td>1</td>\n",
       "      <td>7</td>\n",
       "      <td>1</td>\n",
       "      <td>Other</td>\n",
       "      <td>51</td>\n",
       "      <td>...</td>\n",
       "      <td>0</td>\n",
       "      <td>1</td>\n",
       "      <td>0</td>\n",
       "      <td>0</td>\n",
       "      <td>0</td>\n",
       "      <td>0</td>\n",
       "      <td>0</td>\n",
       "      <td>0</td>\n",
       "      <td>0</td>\n",
       "      <td>0</td>\n",
       "    </tr>\n",
       "  </tbody>\n",
       "</table>\n",
       "<p>5 rows × 171 columns</p>\n",
       "</div>"
      ],
      "text/plain": [
       "              patient_nbr             race  gender  age admission_type_id  \\\n",
       "encounter_id                                                                \n",
       "2278392           8222157        Caucasian  Female    5                 6   \n",
       "149190           55629189        Caucasian  Female   15                 1   \n",
       "64410            86047875  AfricanAmerican  Female   25                 1   \n",
       "500364           82442376        Caucasian    Male   35                 1   \n",
       "16680            42519267        Caucasian    Male   45                 1   \n",
       "\n",
       "             discharge_disposition_id admission_source_id  time_in_hospital  \\\n",
       "encounter_id                                                                  \n",
       "2278392                            25                   1                 1   \n",
       "149190                              1                   7                 3   \n",
       "64410                               1                   7                 2   \n",
       "500364                              1                   7                 2   \n",
       "16680                               1                   7                 1   \n",
       "\n",
       "             medical_specialty  num_lab_procedures            ...             \\\n",
       "encounter_id                                                  ...              \n",
       "2278392                  Other                  41            ...              \n",
       "149190                   Other                  59            ...              \n",
       "64410                    Other                  11            ...              \n",
       "500364                   Other                  44            ...              \n",
       "16680                    Other                  51            ...              \n",
       "\n",
       "              medical_specialty_Orthopedics-Reconstructive  \\\n",
       "encounter_id                                                 \n",
       "2278392                                                  0   \n",
       "149190                                                   0   \n",
       "64410                                                    0   \n",
       "500364                                                   0   \n",
       "16680                                                    0   \n",
       "\n",
       "              medical_specialty_Other  medical_specialty_Pediatrics  \\\n",
       "encounter_id                                                          \n",
       "2278392                             1                             0   \n",
       "149190                              1                             0   \n",
       "64410                               1                             0   \n",
       "500364                              1                             0   \n",
       "16680                               1                             0   \n",
       "\n",
       "              medical_specialty_PhysicalMedicineandRehabilitation  \\\n",
       "encounter_id                                                        \n",
       "2278392                                                       0     \n",
       "149190                                                        0     \n",
       "64410                                                         0     \n",
       "500364                                                        0     \n",
       "16680                                                         0     \n",
       "\n",
       "              medical_specialty_Psychiatry medical_specialty_Pulmonology  \\\n",
       "encounter_id                                                               \n",
       "2278392                                  0                             0   \n",
       "149190                                   0                             0   \n",
       "64410                                    0                             0   \n",
       "500364                                   0                             0   \n",
       "16680                                    0                             0   \n",
       "\n",
       "             medical_specialty_Radiologist  \\\n",
       "encounter_id                                 \n",
       "2278392                                  0   \n",
       "149190                                   0   \n",
       "64410                                    0   \n",
       "500364                                   0   \n",
       "16680                                    0   \n",
       "\n",
       "             medical_specialty_Surgery-Cardiovascular/Thoracic  \\\n",
       "encounter_id                                                     \n",
       "2278392                                                      0   \n",
       "149190                                                       0   \n",
       "64410                                                        0   \n",
       "500364                                                       0   \n",
       "16680                                                        0   \n",
       "\n",
       "              medical_specialty_Surgery-General medical_specialty_Urology  \n",
       "encounter_id                                                               \n",
       "2278392                                       0                         0  \n",
       "149190                                        0                         0  \n",
       "64410                                         0                         0  \n",
       "500364                                        0                         0  \n",
       "16680                                         0                         0  \n",
       "\n",
       "[5 rows x 171 columns]"
      ]
     },
     "execution_count": 38,
     "metadata": {},
     "output_type": "execute_result"
    }
   ],
   "source": [
    "dd.head()"
   ]
  },
  {
   "cell_type": "code",
   "execution_count": 39,
   "metadata": {},
   "outputs": [
    {
     "data": {
      "text/html": [
       "<div>\n",
       "<style scoped>\n",
       "    .dataframe tbody tr th:only-of-type {\n",
       "        vertical-align: middle;\n",
       "    }\n",
       "\n",
       "    .dataframe tbody tr th {\n",
       "        vertical-align: top;\n",
       "    }\n",
       "\n",
       "    .dataframe thead th {\n",
       "        text-align: right;\n",
       "    }\n",
       "</style>\n",
       "<table border=\"1\" class=\"dataframe\">\n",
       "  <thead>\n",
       "    <tr style=\"text-align: right;\">\n",
       "      <th></th>\n",
       "      <th>age</th>\n",
       "      <th>time_in_hospital</th>\n",
       "      <th>num_lab_procedures</th>\n",
       "      <th>num_procedures</th>\n",
       "      <th>num_medications</th>\n",
       "      <th>number_outpatient</th>\n",
       "      <th>number_emergency</th>\n",
       "      <th>number_inpatient</th>\n",
       "      <th>number_diagnoses</th>\n",
       "      <th>race_Asian</th>\n",
       "      <th>...</th>\n",
       "      <th>medical_specialty_Other</th>\n",
       "      <th>medical_specialty_Pediatrics</th>\n",
       "      <th>medical_specialty_PhysicalMedicineandRehabilitation</th>\n",
       "      <th>medical_specialty_Psychiatry</th>\n",
       "      <th>medical_specialty_Pulmonology</th>\n",
       "      <th>medical_specialty_Radiologist</th>\n",
       "      <th>medical_specialty_Surgery-Cardiovascular/Thoracic</th>\n",
       "      <th>medical_specialty_Surgery-General</th>\n",
       "      <th>medical_specialty_Urology</th>\n",
       "      <th>readmission_label</th>\n",
       "    </tr>\n",
       "    <tr>\n",
       "      <th>encounter_id</th>\n",
       "      <th></th>\n",
       "      <th></th>\n",
       "      <th></th>\n",
       "      <th></th>\n",
       "      <th></th>\n",
       "      <th></th>\n",
       "      <th></th>\n",
       "      <th></th>\n",
       "      <th></th>\n",
       "      <th></th>\n",
       "      <th></th>\n",
       "      <th></th>\n",
       "      <th></th>\n",
       "      <th></th>\n",
       "      <th></th>\n",
       "      <th></th>\n",
       "      <th></th>\n",
       "      <th></th>\n",
       "      <th></th>\n",
       "      <th></th>\n",
       "      <th></th>\n",
       "    </tr>\n",
       "  </thead>\n",
       "  <tbody>\n",
       "    <tr>\n",
       "      <th>2278392</th>\n",
       "      <td>5</td>\n",
       "      <td>1</td>\n",
       "      <td>41</td>\n",
       "      <td>0</td>\n",
       "      <td>1</td>\n",
       "      <td>0</td>\n",
       "      <td>0</td>\n",
       "      <td>0</td>\n",
       "      <td>1</td>\n",
       "      <td>0</td>\n",
       "      <td>...</td>\n",
       "      <td>1</td>\n",
       "      <td>0</td>\n",
       "      <td>0</td>\n",
       "      <td>0</td>\n",
       "      <td>0</td>\n",
       "      <td>0</td>\n",
       "      <td>0</td>\n",
       "      <td>0</td>\n",
       "      <td>0</td>\n",
       "      <td>0</td>\n",
       "    </tr>\n",
       "    <tr>\n",
       "      <th>149190</th>\n",
       "      <td>15</td>\n",
       "      <td>3</td>\n",
       "      <td>59</td>\n",
       "      <td>0</td>\n",
       "      <td>18</td>\n",
       "      <td>0</td>\n",
       "      <td>0</td>\n",
       "      <td>0</td>\n",
       "      <td>9</td>\n",
       "      <td>0</td>\n",
       "      <td>...</td>\n",
       "      <td>1</td>\n",
       "      <td>0</td>\n",
       "      <td>0</td>\n",
       "      <td>0</td>\n",
       "      <td>0</td>\n",
       "      <td>0</td>\n",
       "      <td>0</td>\n",
       "      <td>0</td>\n",
       "      <td>0</td>\n",
       "      <td>0</td>\n",
       "    </tr>\n",
       "    <tr>\n",
       "      <th>64410</th>\n",
       "      <td>25</td>\n",
       "      <td>2</td>\n",
       "      <td>11</td>\n",
       "      <td>5</td>\n",
       "      <td>13</td>\n",
       "      <td>2</td>\n",
       "      <td>0</td>\n",
       "      <td>1</td>\n",
       "      <td>6</td>\n",
       "      <td>0</td>\n",
       "      <td>...</td>\n",
       "      <td>1</td>\n",
       "      <td>0</td>\n",
       "      <td>0</td>\n",
       "      <td>0</td>\n",
       "      <td>0</td>\n",
       "      <td>0</td>\n",
       "      <td>0</td>\n",
       "      <td>0</td>\n",
       "      <td>0</td>\n",
       "      <td>0</td>\n",
       "    </tr>\n",
       "    <tr>\n",
       "      <th>500364</th>\n",
       "      <td>35</td>\n",
       "      <td>2</td>\n",
       "      <td>44</td>\n",
       "      <td>1</td>\n",
       "      <td>16</td>\n",
       "      <td>0</td>\n",
       "      <td>0</td>\n",
       "      <td>0</td>\n",
       "      <td>7</td>\n",
       "      <td>0</td>\n",
       "      <td>...</td>\n",
       "      <td>1</td>\n",
       "      <td>0</td>\n",
       "      <td>0</td>\n",
       "      <td>0</td>\n",
       "      <td>0</td>\n",
       "      <td>0</td>\n",
       "      <td>0</td>\n",
       "      <td>0</td>\n",
       "      <td>0</td>\n",
       "      <td>0</td>\n",
       "    </tr>\n",
       "    <tr>\n",
       "      <th>16680</th>\n",
       "      <td>45</td>\n",
       "      <td>1</td>\n",
       "      <td>51</td>\n",
       "      <td>0</td>\n",
       "      <td>8</td>\n",
       "      <td>0</td>\n",
       "      <td>0</td>\n",
       "      <td>0</td>\n",
       "      <td>5</td>\n",
       "      <td>0</td>\n",
       "      <td>...</td>\n",
       "      <td>1</td>\n",
       "      <td>0</td>\n",
       "      <td>0</td>\n",
       "      <td>0</td>\n",
       "      <td>0</td>\n",
       "      <td>0</td>\n",
       "      <td>0</td>\n",
       "      <td>0</td>\n",
       "      <td>0</td>\n",
       "      <td>0</td>\n",
       "    </tr>\n",
       "  </tbody>\n",
       "</table>\n",
       "<p>5 rows × 133 columns</p>\n",
       "</div>"
      ],
      "text/plain": [
       "              age  time_in_hospital  num_lab_procedures  num_procedures  \\\n",
       "encounter_id                                                              \n",
       "2278392         5                 1                  41               0   \n",
       "149190         15                 3                  59               0   \n",
       "64410          25                 2                  11               5   \n",
       "500364         35                 2                  44               1   \n",
       "16680          45                 1                  51               0   \n",
       "\n",
       "              num_medications  number_outpatient  number_emergency  \\\n",
       "encounter_id                                                         \n",
       "2278392                     1                  0                 0   \n",
       "149190                     18                  0                 0   \n",
       "64410                      13                  2                 0   \n",
       "500364                     16                  0                 0   \n",
       "16680                       8                  0                 0   \n",
       "\n",
       "              number_inpatient  number_diagnoses  race_Asian  \\\n",
       "encounter_id                                                   \n",
       "2278392                      0                 1           0   \n",
       "149190                       0                 9           0   \n",
       "64410                        1                 6           0   \n",
       "500364                       0                 7           0   \n",
       "16680                        0                 5           0   \n",
       "\n",
       "                    ...          medical_specialty_Other  \\\n",
       "encounter_id        ...                                    \n",
       "2278392             ...                                1   \n",
       "149190              ...                                1   \n",
       "64410               ...                                1   \n",
       "500364              ...                                1   \n",
       "16680               ...                                1   \n",
       "\n",
       "              medical_specialty_Pediatrics  \\\n",
       "encounter_id                                 \n",
       "2278392                                  0   \n",
       "149190                                   0   \n",
       "64410                                    0   \n",
       "500364                                   0   \n",
       "16680                                    0   \n",
       "\n",
       "              medical_specialty_PhysicalMedicineandRehabilitation  \\\n",
       "encounter_id                                                        \n",
       "2278392                                                       0     \n",
       "149190                                                        0     \n",
       "64410                                                         0     \n",
       "500364                                                        0     \n",
       "16680                                                         0     \n",
       "\n",
       "              medical_specialty_Psychiatry  medical_specialty_Pulmonology  \\\n",
       "encounter_id                                                                \n",
       "2278392                                  0                              0   \n",
       "149190                                   0                              0   \n",
       "64410                                    0                              0   \n",
       "500364                                   0                              0   \n",
       "16680                                    0                              0   \n",
       "\n",
       "              medical_specialty_Radiologist  \\\n",
       "encounter_id                                  \n",
       "2278392                                   0   \n",
       "149190                                    0   \n",
       "64410                                     0   \n",
       "500364                                    0   \n",
       "16680                                     0   \n",
       "\n",
       "              medical_specialty_Surgery-Cardiovascular/Thoracic  \\\n",
       "encounter_id                                                      \n",
       "2278392                                                       0   \n",
       "149190                                                        0   \n",
       "64410                                                         0   \n",
       "500364                                                        0   \n",
       "16680                                                         0   \n",
       "\n",
       "              medical_specialty_Surgery-General  medical_specialty_Urology  \\\n",
       "encounter_id                                                                 \n",
       "2278392                                       0                          0   \n",
       "149190                                        0                          0   \n",
       "64410                                         0                          0   \n",
       "500364                                        0                          0   \n",
       "16680                                         0                          0   \n",
       "\n",
       "              readmission_label  \n",
       "encounter_id                     \n",
       "2278392                       0  \n",
       "149190                        0  \n",
       "64410                         0  \n",
       "500364                        0  \n",
       "16680                         0  \n",
       "\n",
       "[5 rows x 133 columns]"
      ]
     },
     "execution_count": 39,
     "metadata": {},
     "output_type": "execute_result"
    }
   ],
   "source": [
    "# making a new df 'dd_data' with feature_engineering 'numerical' as well as 'categorical' variables\n",
    "col2use = cols_nume + cols_all_cat \n",
    "dd_data =dd[col2use + ['readmission_label']]\n",
    "dd_data.head()\n"
   ]
  },
  {
   "cell_type": "code",
   "execution_count": 40,
   "metadata": {},
   "outputs": [
    {
     "data": {
      "text/plain": [
       "0    88.611175\n",
       "1    11.388825\n",
       "Name: readmission_label, dtype: float64"
      ]
     },
     "execution_count": 40,
     "metadata": {},
     "output_type": "execute_result"
    }
   ],
   "source": [
    "dd_data['readmission_label'].value_counts(normalize=True) * 100"
   ]
  },
  {
   "cell_type": "markdown",
   "metadata": {},
   "source": [
    "# Splitting Data into Training and Testing Samples"
   ]
  },
  {
   "cell_type": "markdown",
   "metadata": {},
   "source": [
    "Now the data would be split into training and validation sets. The idea behind splitting the data is to measure how well the  model would work on unseen data.\n",
    "In this project, I split into 70% train, 30% validation data.\n"
   ]
  },
  {
   "cell_type": "code",
   "execution_count": 41,
   "metadata": {},
   "outputs": [],
   "source": [
    "# 'X' has the feature variables and'Y' has the label\n",
    "Y = dd_data['readmission_label']\n",
    "X = dd_data.drop(['readmission_label'], axis =1)\n"
   ]
  },
  {
   "cell_type": "code",
   "execution_count": 42,
   "metadata": {},
   "outputs": [],
   "source": [
    "from sklearn.model_selection import train_test_split"
   ]
  },
  {
   "cell_type": "code",
   "execution_count": 43,
   "metadata": {},
   "outputs": [],
   "source": [
    "#Split X and Y into training and test data\n",
    "Xtrain, Xtest, Ytrain, Ytest = train_test_split(X, Y, test_size = .3, \n",
    "                                                random_state = 7, stratify = Y)\n"
   ]
  },
  {
   "cell_type": "code",
   "execution_count": 44,
   "metadata": {},
   "outputs": [
    {
     "name": "stdout",
     "output_type": "stream",
     "text": [
      "shape of Xtrain,Xtest: (69540, 132) (29803, 132)\n"
     ]
    }
   ],
   "source": [
    "print(\"shape of Xtrain,Xtest:\",Xtrain.shape,Xtest.shape)"
   ]
  },
  {
   "cell_type": "code",
   "execution_count": 45,
   "metadata": {},
   "outputs": [
    {
     "data": {
      "text/plain": [
       "0    88.610871\n",
       "1    11.389129\n",
       "Name: readmission_label, dtype: float64"
      ]
     },
     "execution_count": 45,
     "metadata": {},
     "output_type": "execute_result"
    }
   ],
   "source": [
    "Ytrain.value_counts(normalize=True) * 100"
   ]
  },
  {
   "cell_type": "markdown",
   "metadata": {},
   "source": [
    "### Handling Class Imbalance"
   ]
  },
  {
   "cell_type": "markdown",
   "metadata": {},
   "source": [
    "At this point , I would like to pause and ponder about class imbalance of the dataset.The training set is heavily skewed with ' no readmissions' at 88.61% and ' readmissions' at 11.38%. With a greater imbalanced ratio, the decision function favor the class with the larger number of samples, usually referred as the majority class.This results in inaccuracy in prediction."
   ]
  },
  {
   "cell_type": "code",
   "execution_count": 46,
   "metadata": {},
   "outputs": [
    {
     "name": "stdout",
     "output_type": "stream",
     "text": [
      "[(0, 61620), (1, 7920)]\n",
      "[(0, 7920), (1, 7920)]\n"
     ]
    }
   ],
   "source": [
    "#Undersampling\n",
    "from imblearn.under_sampling import RandomUnderSampler\n",
    "rus = RandomUnderSampler(random_state=0)\n",
    "X_resampled_rus, y_resampled_rus = rus.fit_resample(Xtrain,Ytrain)\n",
    "from collections import Counter\n",
    "print(sorted(Counter(Ytrain).items()))\n",
    "print(sorted(Counter(y_resampled_rus).items()))\n"
   ]
  },
  {
   "cell_type": "code",
   "execution_count": 47,
   "metadata": {},
   "outputs": [
    {
     "name": "stdout",
     "output_type": "stream",
     "text": [
      "[(0, 61620), (1, 7920)]\n",
      "[(0, 61620), (1, 61620)]\n"
     ]
    }
   ],
   "source": [
    "#Oversampling\n",
    "\n",
    "from imblearn.over_sampling import RandomOverSampler\n",
    "ros = RandomOverSampler(random_state=0)\n",
    "X_resampled_ros, y_resampled_ros = ros.fit_resample(Xtrain, Ytrain)\n",
    "from collections import Counter\n",
    "print(sorted(Counter(Ytrain).items()))\n",
    "print(sorted(Counter(y_resampled_ros).items()))\n"
   ]
  },
  {
   "cell_type": "code",
   "execution_count": 212,
   "metadata": {},
   "outputs": [],
   "source": [
    "def evaluate_model(testX, testY, mdl, predY):\n",
    "    #Checking the accuracy,\n",
    "    accuracy = mdl.score(testX, testY)\n",
    "    \n",
    "    # predict probabilities\n",
    "    probs = mdl.predict_proba(testX)[:,1]\n",
    "    # calculate AUC\n",
    "    auc = roc_auc_score(testY, probs)\n",
    "    # calculate recall\n",
    "    recall = recall_score(testY, predY)\n",
    "    # calculate precision\n",
    "    precision = precision_score(testY, predY)\n",
    "    # calculate roc curve\n",
    "    print('ROC Curve')\n",
    "    fpr, tpr, thresholds = roc_curve(testY, probs)\n",
    "    # plot no skill\n",
    "    pyplot.plot([0, 1], [0, 1], linestyle='--')\n",
    "    # plot the precision-recall curve for the model\n",
    "    pyplot.plot(fpr, tpr, marker='.')\n",
    "    # show the plot\n",
    "    pyplot.show()\n",
    "    return accuracy, auc, recall, precision, fpr, tpr\n"
   ]
  },
  {
   "cell_type": "markdown",
   "metadata": {},
   "source": [
    "# Random Forest Classifier"
   ]
  },
  {
   "cell_type": "code",
   "execution_count": 48,
   "metadata": {},
   "outputs": [
    {
     "name": "stdout",
     "output_type": "stream",
     "text": [
      " Accuracy of Randomforest classification:  0.8845418246485253\n",
      " Confusion Matrix \n"
     ]
    },
    {
     "data": {
      "text/plain": [
       "array([[26259,   150],\n",
       "       [ 3291,   103]], dtype=int64)"
      ]
     },
     "execution_count": 48,
     "metadata": {},
     "output_type": "execute_result"
    }
   ],
   "source": [
    "from sklearn.ensemble import RandomForestClassifier\n",
    "from sklearn.metrics import roc_auc_score, accuracy_score, precision_score, recall_score, roc_curve\n",
    "from sklearn.metrics import classification_report, confusion_matrix\n",
    "\n",
    "#RFC training with balanced data from oversampling\n",
    "\n",
    "rfc = RandomForestClassifier(random_state=42,n_estimators=500)\n",
    "rfc.fit(X_resampled_ros, y_resampled_ros)\n",
    "Y_pred_rfc = rfc.predict(Xtest)\n",
    "\n",
    "\n",
    "#Checking the accuracy,\n",
    "print(\" Accuracy of Randomforest classification: \", rfc.score(Xtest, Ytest))\n",
    "\n",
    "#Printing the confusion matrix,\n",
    "print(\" Confusion Matrix \")\n",
    "confusion_matrix(Ytest, Y_pred_rfc)"
   ]
  },
  {
   "cell_type": "code",
   "execution_count": 49,
   "metadata": {},
   "outputs": [
    {
     "data": {
      "image/png": "[encoded data removed]",
      "text/plain": [
       "<Figure size 648x648 with 2 Axes>"
      ]
     },
     "metadata": {},
     "output_type": "display_data"
    }
   ],
   "source": [
    "plt.figure(figsize=(9,9))\n",
    "sns.heatmap(confusion_matrix(Ytest, Y_pred_rfc), annot=True, fmt=\".3f\", linewidths=.5, square = True, cmap = 'Reds_r');\n",
    "plt.ylabel('Actual label');\n",
    "plt.xlabel('Predicted label');\n",
    "all_sample_title = 'Accuracy Score: {0}'.format(rfc.score(Xtest, Ytest))\n",
    "plt.title(all_sample_title, size = 15);"
   ]
  },
  {
   "cell_type": "code",
   "execution_count": 50,
   "metadata": {},
   "outputs": [
    {
     "name": "stdout",
     "output_type": "stream",
     "text": [
      "              precision    recall  f1-score   support\n",
      "\n",
      "     Class 0       0.89      0.99      0.94     26409\n",
      "     Class 1       0.41      0.03      0.06      3394\n",
      "\n",
      "   micro avg       0.88      0.88      0.88     29803\n",
      "   macro avg       0.65      0.51      0.50     29803\n",
      "weighted avg       0.83      0.88      0.84     29803\n",
      "\n"
     ]
    }
   ],
   "source": [
    "print(classification_report(Ytest, Y_pred_rfc, target_names = ['Class 0', 'Class 1']))"
   ]
  },
  {
   "cell_type": "code",
   "execution_count": 137,
   "metadata": {},
   "outputs": [
    {
     "name": "stdout",
     "output_type": "stream",
     "text": [
      " Accuracy of Randomforest classification:  0.623561386437607\n",
      " Confusion Matrix \n"
     ]
    },
    {
     "data": {
      "text/plain": [
       "array([[16598,  9811],\n",
       "       [ 1408,  1986]], dtype=int64)"
      ]
     },
     "execution_count": 137,
     "metadata": {},
     "output_type": "execute_result"
    }
   ],
   "source": [
    "#RFC training with balanced data from undersampling\n",
    "rfc = RandomForestClassifier(random_state=42,n_estimators=500)\n",
    "rfc.fit(X_resampled_rus, y_resampled_rus)\n",
    "Y_pred_rfc = rfc.predict(Xtest)\n",
    "\n",
    "#Checking the accuracy,\n",
    "print(\" Accuracy of Randomforest classification: \", rfc.score(Xtest, Ytest))\n",
    "\n",
    "#Printing the confusion matrix,\n",
    "print(\" Confusion Matrix \")\n",
    "confusion_matrix(Ytest, Y_pred_rfc)"
   ]
  },
  {
   "cell_type": "code",
   "execution_count": 52,
   "metadata": {},
   "outputs": [
    {
     "data": {
      "image/png": "[encoded data removed]",
      "text/plain": [
       "<Figure size 648x648 with 2 Axes>"
      ]
     },
     "metadata": {},
     "output_type": "display_data"
    }
   ],
   "source": [
    "plt.figure(figsize=(9,9))\n",
    "sns.heatmap(confusion_matrix(Ytest, Y_pred_rfc), annot=True, fmt=\".3f\", linewidths=.5, square = True, cmap = 'Reds_r');\n",
    "plt.ylabel('Actual label');\n",
    "plt.xlabel('Predicted label');\n",
    "all_sample_title = 'Accuracy Score: {0}'.format(rfc.score(Xtest, Ytest))\n",
    "plt.title(all_sample_title, size = 15);"
   ]
  },
  {
   "cell_type": "code",
   "execution_count": 53,
   "metadata": {},
   "outputs": [
    {
     "name": "stdout",
     "output_type": "stream",
     "text": [
      "              precision    recall  f1-score   support\n",
      "\n",
      "     Class 0       0.92      0.63      0.75     26409\n",
      "     Class 1       0.17      0.59      0.26      3394\n",
      "\n",
      "   micro avg       0.62      0.62      0.62     29803\n",
      "   macro avg       0.55      0.61      0.50     29803\n",
      "weighted avg       0.84      0.62      0.69     29803\n",
      "\n"
     ]
    }
   ],
   "source": [
    "print(classification_report(Ytest, Y_pred_rfc, target_names = ['Class 0', 'Class 1']))"
   ]
  },
  {
   "cell_type": "code",
   "execution_count": 213,
   "metadata": {},
   "outputs": [
    {
     "name": "stdout",
     "output_type": "stream",
     "text": [
      "ROC Curve\n"
     ]
    },
    {
     "data": {
      "image/png": "[encoded data removed]",
      "text/plain": [
       "<Figure size 432x288 with 1 Axes>"
      ]
     },
     "metadata": {},
     "output_type": "display_data"
    },
    {
     "name": "stdout",
     "output_type": "stream",
     "text": [
      "Accuracy : 0.624\n",
      "AUC      : 0.649\n",
      "Recall   : 0.585\n",
      "Precision: 0.168\n"
     ]
    }
   ],
   "source": [
    "accuracy_rfc, auc_rfc, recall_rfc, precision_rfc,fpr_rfc, tpr_rfc = evaluate_model(Xtest, Ytest, rfc,Y_pred_rfc)\n",
    "\n",
    "print('Accuracy : %.3f' % accuracy_rfc)\n",
    "print('AUC      : %.3f' % auc_rfc)\n",
    "print('Recall   : %.3f' % recall_rfc)\n",
    "print('Precision: %.3f' % precision_rfc)"
   ]
  },
  {
   "cell_type": "markdown",
   "metadata": {},
   "source": [
    "For negating the class imbalance , I did both oversampling and undersampling to balance the data and then trained the RandomForest Classifer on both the resultant balanced data set. It can be observed that with oversampling, although the accuracy is 88%, the True Negative prediction is very less , 110. In the case of training data setbalanced using undersampling, although the accuracy is  62%, the TN prediction is 1991. Since that the non -dominant class, accuracy in predicting non-dominant class correctly would be taken as criteria for the  preferrred balanced data set, so I would be proceeding with testing further algorithms on  balanced dataset obtained by undersampling."
   ]
  },
  {
   "cell_type": "code",
   "execution_count": 54,
   "metadata": {},
   "outputs": [
    {
     "data": {
      "image/png": "[encoded data removed]",
      "text/plain": [
       "<Figure size 720x432 with 1 Axes>"
      ]
     },
     "metadata": {},
     "output_type": "display_data"
    }
   ],
   "source": [
    "#Determining which features are most important,\n",
    "feature_names = Xtrain.columns\n",
    "feature_imports = rfc.feature_importances_\n",
    "most_imp_features = pd.DataFrame([f for f in zip(feature_names,feature_imports)], columns=[\"Feature\", \"Importance\"]).nlargest(10, \"Importance\")\n",
    "most_imp_features.sort_values(by=\"Importance\", inplace=True)\n",
    "plt.figure(figsize=(10,6))\n",
    "plt.barh(range(len(most_imp_features)), most_imp_features.Importance, align='center', alpha=0.8)\n",
    "plt.yticks(range(len(most_imp_features)), most_imp_features.Feature, fontsize=14)\n",
    "plt.xlabel('Importance')\n",
    "plt.title('Most important features - Random Forest')\n",
    "plt.show()"
   ]
  },
  {
   "cell_type": "markdown",
   "metadata": {},
   "source": [
    "# Logistic Regression"
   ]
  },
  {
   "cell_type": "code",
   "execution_count": 148,
   "metadata": {},
   "outputs": [],
   "source": [
    "# create model logistic as logistic regression using Sklearn \n",
    "from sklearn.linear_model import LogisticRegression\n",
    "lreg = LogisticRegression(tol=1e-7, penalty='l2', C=0.0005,solver='lbfgs',max_iter = 200)\n",
    "lreg.fit(X_resampled_rus, y_resampled_rus)\n",
    "Y_pred_lreg = lreg.predict(Xtest)"
   ]
  },
  {
   "cell_type": "code",
   "execution_count": 149,
   "metadata": {},
   "outputs": [
    {
     "name": "stdout",
     "output_type": "stream",
     "text": [
      " The accuracy of the Logistic regression model: 0.6499010166761735\n"
     ]
    }
   ],
   "source": [
    "# Checking the accuracy of the model \n",
    "print(\" The accuracy of the Logistic regression model:\" ,lreg.score(Xtest, Ytest))"
   ]
  },
  {
   "cell_type": "code",
   "execution_count": 150,
   "metadata": {},
   "outputs": [
    {
     "name": "stdout",
     "output_type": "stream",
     "text": [
      "[[17576  8833]\n",
      " [ 1601  1793]]\n"
     ]
    }
   ],
   "source": [
    "# checking the confusion matrix\n",
    "from sklearn.metrics import confusion_matrix\n",
    "print(confusion_matrix(Ytest, Y_pred_lreg))"
   ]
  },
  {
   "cell_type": "code",
   "execution_count": 151,
   "metadata": {},
   "outputs": [
    {
     "data": {
      "image/png": "[encoded data removed]",
      "text/plain": [
       "<Figure size 648x648 with 2 Axes>"
      ]
     },
     "metadata": {},
     "output_type": "display_data"
    }
   ],
   "source": [
    "plt.figure(figsize=(9,9))\n",
    "sns.heatmap(confusion_matrix(Ytest, Y_pred_lreg), annot=True, fmt=\".3f\", linewidths=.5, square = True, cmap = 'Blues_r');\n",
    "plt.ylabel('Actual label');\n",
    "plt.xlabel('Predicted label');\n",
    "all_sample_title = 'Accuracy Score: {0}'.format(lreg.score(Xtest, Ytest))\n",
    "plt.title(all_sample_title, size = 15);"
   ]
  },
  {
   "cell_type": "code",
   "execution_count": 152,
   "metadata": {},
   "outputs": [
    {
     "name": "stdout",
     "output_type": "stream",
     "text": [
      "              precision    recall  f1-score   support\n",
      "\n",
      "     Class 0       0.92      0.67      0.77     26409\n",
      "     Class 1       0.17      0.53      0.26      3394\n",
      "\n",
      "   micro avg       0.65      0.65      0.65     29803\n",
      "   macro avg       0.54      0.60      0.51     29803\n",
      "weighted avg       0.83      0.65      0.71     29803\n",
      "\n"
     ]
    }
   ],
   "source": [
    "# Checking the summary of classification\n",
    "from sklearn.metrics import classification_report\n",
    "print(classification_report(Ytest, Y_pred_lreg, target_names = ['Class 0', 'Class 1']))"
   ]
  },
  {
   "cell_type": "code",
   "execution_count": 214,
   "metadata": {},
   "outputs": [
    {
     "name": "stdout",
     "output_type": "stream",
     "text": [
      "ROC Curve\n"
     ]
    },
    {
     "data": {
      "image/png": "[encoded data removed]",
      "text/plain": [
       "<Figure size 432x288 with 1 Axes>"
      ]
     },
     "metadata": {},
     "output_type": "display_data"
    },
    {
     "name": "stdout",
     "output_type": "stream",
     "text": [
      "Accuracy : 0.650\n",
      "AUC      : 0.636\n",
      "Recall   : 0.528\n",
      "Precision: 0.169\n"
     ]
    }
   ],
   "source": [
    "accuracy_lreg, auc_lreg, recall_lreg, precision_lreg,fpr_lreg,tpr_lreg = evaluate_model(Xtest, Ytest, lreg,Y_pred_lreg)\n",
    "print('Accuracy : %.3f' % accuracy_lreg)\n",
    "print('AUC      : %.3f' % auc_lreg)\n",
    "print('Recall   : %.3f' % recall_lreg)\n",
    "print('Precision: %.3f' % precision_lreg)"
   ]
  },
  {
   "cell_type": "markdown",
   "metadata": {},
   "source": [
    "# Gradient Boosting Classifier"
   ]
  },
  {
   "cell_type": "code",
   "execution_count": 160,
   "metadata": {},
   "outputs": [],
   "source": [
    "from sklearn.ensemble import GradientBoostingClassifier\n",
    "gbc =GradientBoostingClassifier(n_estimators=100, learning_rate=1.0,\n",
    "     max_depth=3, random_state=42)\n",
    "gbc.fit(X_resampled_rus, y_resampled_rus)\n",
    "Y_pred_gbc =gbc.predict(Xtest)"
   ]
  },
  {
   "cell_type": "code",
   "execution_count": 215,
   "metadata": {},
   "outputs": [
    {
     "name": "stdout",
     "output_type": "stream",
     "text": [
      "ROC Curve\n"
     ]
    },
    {
     "data": {
      "image/png": "[encoded data removed]",
      "text/plain": [
       "<Figure size 432x288 with 1 Axes>"
      ]
     },
     "metadata": {},
     "output_type": "display_data"
    },
    {
     "name": "stdout",
     "output_type": "stream",
     "text": [
      "Accuracy : 0.614\n",
      "AUC      : 0.641\n",
      "Recall   : 0.597\n",
      "Precision: 0.166\n"
     ]
    }
   ],
   "source": [
    "accuracy_gbc, auc_gbc, recall_gbc, precision_gbc ,fpr_gbc, tpr_gbc = evaluate_model(Xtest, Ytest, gbc,Y_pred_gbc)\n",
    "print('Accuracy : %.3f' % accuracy_gbc)\n",
    "print('AUC      : %.3f' % auc_gbc)\n",
    "print('Recall   : %.3f' % recall_gbc)\n",
    "print('Precision: %.3f' % precision_gbc)"
   ]
  },
  {
   "cell_type": "code",
   "execution_count": 64,
   "metadata": {},
   "outputs": [
    {
     "name": "stdout",
     "output_type": "stream",
     "text": [
      "The accuracy of Gradient Boosting Classifier model:  0.6137301613931483\n"
     ]
    }
   ],
   "source": [
    "print(\"The accuracy of Gradient Boosting Classifier model: \", gbc.score(Xtest, Ytest))"
   ]
  },
  {
   "cell_type": "code",
   "execution_count": 65,
   "metadata": {},
   "outputs": [
    {
     "name": "stdout",
     "output_type": "stream",
     "text": [
      "[[16266 10143]\n",
      " [ 1369  2025]]\n"
     ]
    }
   ],
   "source": [
    "# checking the confusion matrix\n",
    "from sklearn.metrics import confusion_matrix\n",
    "print(confusion_matrix(Ytest, Y_pred_gbc))"
   ]
  },
  {
   "cell_type": "code",
   "execution_count": 66,
   "metadata": {},
   "outputs": [
    {
     "data": {
      "image/png": "[encoded data removed]",
      "text/plain": [
       "<Figure size 648x648 with 2 Axes>"
      ]
     },
     "metadata": {},
     "output_type": "display_data"
    }
   ],
   "source": [
    "plt.figure(figsize=(9,9))\n",
    "sns.heatmap(confusion_matrix(Ytest, Y_pred_log_reg), annot=True, fmt=\".3f\", linewidths=.5, square = True, cmap = 'Blues_r');\n",
    "plt.ylabel('Actual label');\n",
    "plt.xlabel('Predicted label');\n",
    "all_sample_title = 'Accuracy Score: {0}'.format(gbc.score(Xtest, Ytest))\n",
    "plt.title(all_sample_title, size = 15);"
   ]
  },
  {
   "cell_type": "markdown",
   "metadata": {},
   "source": [
    "# AdaBoosted Classification model"
   ]
  },
  {
   "cell_type": "code",
   "execution_count": 162,
   "metadata": {},
   "outputs": [],
   "source": [
    "#Creating a AdaBoosted Classification model,\n",
    "from sklearn.ensemble import AdaBoostClassifier\n",
    "ada = AdaBoostClassifier(n_estimators = 20, learning_rate = 0.2, random_state = 123)\n",
    "ada.fit(X_resampled_rus, y_resampled_rus)\n",
    "Y_pred_ada = ada.predict(Xtest)"
   ]
  },
  {
   "cell_type": "code",
   "execution_count": 68,
   "metadata": {},
   "outputs": [
    {
     "name": "stdout",
     "output_type": "stream",
     "text": [
      "The accurary of AdaBoosted Classification model:  0.6713418112270577\n"
     ]
    }
   ],
   "source": [
    "print(\"The accurary of AdaBoosted Classification model: \", ada.score(Xtest, Ytest))"
   ]
  },
  {
   "cell_type": "code",
   "execution_count": 216,
   "metadata": {},
   "outputs": [
    {
     "name": "stdout",
     "output_type": "stream",
     "text": [
      "ROC Curve\n"
     ]
    },
    {
     "data": {
      "image/png": "[encoded data removed]",
      "text/plain": [
       "<Figure size 432x288 with 1 Axes>"
      ]
     },
     "metadata": {},
     "output_type": "display_data"
    },
    {
     "name": "stdout",
     "output_type": "stream",
     "text": [
      "Accuracy : 0.671\n",
      "AUC      : 0.650\n",
      "Recall   : 0.527\n",
      "Precision: 0.179\n"
     ]
    }
   ],
   "source": [
    "accuracy_ada, auc_ada, recall_ada, precision_ada , fpr_ada, tpr_ada = evaluate_model(Xtest, Ytest, ada,Y_pred_ada)\n",
    "print('Accuracy : %.3f' % accuracy_ada)\n",
    "print('AUC      : %.3f' % auc_ada)\n",
    "print('Recall   : %.3f' % recall_ada)\n",
    "print('Precision: %.3f' % precision_ada)"
   ]
  },
  {
   "cell_type": "code",
   "execution_count": 69,
   "metadata": {},
   "outputs": [
    {
     "name": "stdout",
     "output_type": "stream",
     "text": [
      "[[18219  8190]\n",
      " [ 1605  1789]]\n"
     ]
    }
   ],
   "source": [
    "#Checking the confusion matrix,\n",
    "print(confusion_matrix(Ytest, Y_pred_ada))"
   ]
  },
  {
   "cell_type": "code",
   "execution_count": 70,
   "metadata": {},
   "outputs": [
    {
     "data": {
      "image/png": "[encoded data removed]",
      "text/plain": [
       "<Figure size 648x648 with 2 Axes>"
      ]
     },
     "metadata": {},
     "output_type": "display_data"
    }
   ],
   "source": [
    "plt.figure(figsize=(9,9))\n",
    "sns.heatmap(confusion_matrix(Ytest, Y_pred_ada), annot=True, fmt=\".3f\", linewidths=.5, square = True, cmap = 'Greens_r');\n",
    "plt.ylabel('Actual label');\n",
    "plt.xlabel('Predicted label');\n",
    "all_sample_title = 'Accuracy Score: {0}'.format(ada.score(Xtest, Ytest))\n",
    "plt.title(all_sample_title, size = 15);"
   ]
  },
  {
   "cell_type": "code",
   "execution_count": 71,
   "metadata": {},
   "outputs": [
    {
     "name": "stdout",
     "output_type": "stream",
     "text": [
      "              precision    recall  f1-score   support\n",
      "\n",
      "          NO       0.92      0.69      0.79     26409\n",
      "         YES       0.18      0.53      0.27      3394\n",
      "\n",
      "   micro avg       0.67      0.67      0.67     29803\n",
      "   macro avg       0.55      0.61      0.53     29803\n",
      "weighted avg       0.83      0.67      0.73     29803\n",
      "\n"
     ]
    }
   ],
   "source": [
    "#Checking recall, f1 :-\n",
    "print(classification_report(Ytest, Y_pred_ada, target_names = ['Class 0', '']))"
   ]
  },
  {
   "cell_type": "code",
   "execution_count": 72,
   "metadata": {},
   "outputs": [],
   "source": [
    "# calculate the False Positive and True Positive rate to get the ROC curve  \n",
    "Y_pred_ada = ada.decision_function(Xtest)\n",
    "fpr_ada, tpr_ada, thresholds = roc_curve(Ytest, Y_pred_ada)"
   ]
  },
  {
   "cell_type": "code",
   "execution_count": 165,
   "metadata": {},
   "outputs": [],
   "source": [
    "# Doing Hyper parameter tuning,\n",
    "from sklearn.ensemble import AdaBoostClassifier\n",
    "from sklearn.model_selection import GridSearchCV\n",
    "\n",
    "ada_boost = AdaBoostClassifier(n_estimators = 20, learning_rate = 0.2, random_state = 123)\n",
    "gridparam ={\n",
    "        'n_estimators': [100, 200,500],\n",
    "        'learning_rate': [0.2,0.5,1.0],\n",
    "},\n",
    "adagrid = GridSearchCV(ada_boost, cv=3, n_jobs=3, param_grid=gridparam)\n",
    "adagrid.fit(X_resampled_rus, y_resampled_rus)\n",
    "Y_pred_adagrid = adagrid.predict(Xtest)"
   ]
  },
  {
   "cell_type": "code",
   "execution_count": 75,
   "metadata": {},
   "outputs": [
    {
     "name": "stdout",
     "output_type": "stream",
     "text": [
      "              precision    recall  f1-score   support\n",
      "\n",
      "          NO       0.92      0.68      0.78     26409\n",
      "         YES       0.18      0.55      0.27      3394\n",
      "\n",
      "   micro avg       0.66      0.66      0.66     29803\n",
      "   macro avg       0.55      0.61      0.53     29803\n",
      "weighted avg       0.84      0.66      0.72     29803\n",
      "\n"
     ]
    }
   ],
   "source": [
    "Y_grid_ada = adagrid.predict(Xtest)\n",
    "print(classification_report(Ytest,Y_pred_adagrid, target_names = ['NO', 'YES']))"
   ]
  },
  {
   "cell_type": "code",
   "execution_count": 74,
   "metadata": {},
   "outputs": [
    {
     "data": {
      "text/plain": [
       "0.6628527329463477"
      ]
     },
     "execution_count": 74,
     "metadata": {},
     "output_type": "execute_result"
    }
   ],
   "source": [
    "#The accuracy of the model with the best parameters\n",
    "adagrid.score(Xtest, Ytest)"
   ]
  },
  {
   "cell_type": "code",
   "execution_count": 217,
   "metadata": {},
   "outputs": [
    {
     "name": "stdout",
     "output_type": "stream",
     "text": [
      "ROC Curve\n"
     ]
    },
    {
     "data": {
      "image/png": "[encoded data removed]",
      "text/plain": [
       "<Figure size 432x288 with 1 Axes>"
      ]
     },
     "metadata": {},
     "output_type": "display_data"
    },
    {
     "name": "stdout",
     "output_type": "stream",
     "text": [
      "Accuracy : 0.663\n",
      "AUC      : 0.659\n",
      "Recall   : 0.546\n",
      "Precision: 0.179\n"
     ]
    }
   ],
   "source": [
    "accuracy_adagrid, auc_adagrid, recall_adagrid, precision_adagrid, fpr_adagrid, tpr_adagrid = evaluate_model(Xtest, Ytest, adagrid,Y_pred_adagrid)\n",
    "print('Accuracy : %.3f' % accuracy_adagrid)\n",
    "print('AUC      : %.3f' % auc_adagrid)\n",
    "print('Recall   : %.3f' % recall_adagrid)\n",
    "print('Precision: %.3f' % precision_adagrid)"
   ]
  },
  {
   "cell_type": "markdown",
   "metadata": {},
   "source": [
    "# Decision Tree Classifier"
   ]
  },
  {
   "cell_type": "code",
   "execution_count": 76,
   "metadata": {},
   "outputs": [],
   "source": [
    "Y_grid_ada_score = adagrid.decision_function(Xtest)\n",
    "fpr_adamod, tpr_adamod, thresholds_grid_ada = roc_curve(Ytest, Y_grid_ada)"
   ]
  },
  {
   "cell_type": "code",
   "execution_count": 77,
   "metadata": {},
   "outputs": [],
   "source": [
    "from sklearn.tree import DecisionTreeClassifier\n",
    "from sklearn.metrics import accuracy_score\n",
    "from sklearn import tree\n"
   ]
  },
  {
   "cell_type": "code",
   "execution_count": 78,
   "metadata": {},
   "outputs": [
    {
     "data": {
      "text/plain": [
       "DecisionTreeClassifier(class_weight=None, criterion='gini', max_depth=3,\n",
       "            max_features=None, max_leaf_nodes=None,\n",
       "            min_impurity_decrease=0.0, min_impurity_split=None,\n",
       "            min_samples_leaf=5, min_samples_split=2,\n",
       "            min_weight_fraction_leaf=0.0, presort=False, random_state=100,\n",
       "            splitter='best')"
      ]
     },
     "execution_count": 78,
     "metadata": {},
     "output_type": "execute_result"
    }
   ],
   "source": [
    "clfgini = DecisionTreeClassifier(criterion = \"gini\", random_state = 100,\n",
    "                               max_depth=3, min_samples_leaf=5)\n",
    "clfgini.fit(X_resampled_rus, y_resampled_rus)"
   ]
  },
  {
   "cell_type": "code",
   "execution_count": 79,
   "metadata": {},
   "outputs": [
    {
     "data": {
      "text/plain": [
       "array([0, 1, 1, ..., 0, 1, 1])"
      ]
     },
     "execution_count": 79,
     "metadata": {},
     "output_type": "execute_result"
    }
   ],
   "source": [
    "Y_pred_dt = clfgini.predict(Xtest)\n"
   ]
  },
  {
   "cell_type": "code",
   "execution_count": 80,
   "metadata": {},
   "outputs": [
    {
     "name": "stdout",
     "output_type": "stream",
     "text": [
      "Accuracy is  60.18186088648794\n"
     ]
    }
   ],
   "source": [
    "print( \"Accuracy is \", accuracy_score(Ytest,Y_pred_dt)*100)"
   ]
  },
  {
   "cell_type": "code",
   "execution_count": 218,
   "metadata": {},
   "outputs": [
    {
     "name": "stdout",
     "output_type": "stream",
     "text": [
      "ROC Curve\n"
     ]
    },
    {
     "data": {
      "image/png": "[encoded data removed]",
      "text/plain": [
       "<Figure size 432x288 with 1 Axes>"
      ]
     },
     "metadata": {},
     "output_type": "display_data"
    },
    {
     "name": "stdout",
     "output_type": "stream",
     "text": [
      "Accuracy : 0.602\n",
      "AUC      : 0.637\n",
      "Recall   : 0.628\n",
      "Precision: 0.167\n"
     ]
    }
   ],
   "source": [
    "accuracy_clfgini, auc_clfgini, recall_clfgini, precision_clfgini,fpr_clfgini, tpr_clfgini = evaluate_model(Xtest, Ytest, clfgini,Y_pred_dt)\n",
    "print('Accuracy : %.3f' % accuracy_clfgini)\n",
    "print('AUC      : %.3f' % auc_clfgini)\n",
    "print('Recall   : %.3f' % recall_clfgini)\n",
    "print('Precision: %.3f' % precision_clfgini)"
   ]
  },
  {
   "cell_type": "markdown",
   "metadata": {},
   "source": [
    "# K nearest neighbors (KNN)"
   ]
  },
  {
   "cell_type": "code",
   "execution_count": 168,
   "metadata": {},
   "outputs": [],
   "source": [
    "# k-nearest neighbors\n",
    "from sklearn.neighbors import KNeighborsClassifier\n",
    "knn=KNeighborsClassifier(n_neighbors = 100)\n",
    "knn.fit(X_resampled_rus, y_resampled_rus)\n",
    "Y_pred_knn = knn.predict(Xtest)"
   ]
  },
  {
   "cell_type": "code",
   "execution_count": 219,
   "metadata": {},
   "outputs": [
    {
     "name": "stdout",
     "output_type": "stream",
     "text": [
      "ROC Curve\n"
     ]
    },
    {
     "data": {
      "image/png": "[encoded data removed]",
      "text/plain": [
       "<Figure size 432x288 with 1 Axes>"
      ]
     },
     "metadata": {},
     "output_type": "display_data"
    },
    {
     "name": "stdout",
     "output_type": "stream",
     "text": [
      "Accuracy : 0.586\n",
      "AUC      : 0.575\n",
      "Recall   : 0.510\n",
      "Precision: 0.140\n"
     ]
    }
   ],
   "source": [
    "accuracy_knn, auc_knn, recall_knn, precision_knn , fpr_knn, tpr_knn = evaluate_model(Xtest, Ytest, knn,Y_pred_knn)\n",
    "print('Accuracy : %.3f' % accuracy_knn)\n",
    "print('AUC      : %.3f' % auc_knn)\n",
    "print('Recall   : %.3f' % recall_knn)\n",
    "print('Precision: %.3f' % precision_knn)"
   ]
  },
  {
   "cell_type": "code",
   "execution_count": 220,
   "metadata": {},
   "outputs": [
    {
     "name": "stdout",
     "output_type": "stream",
     "text": [
      "Model   Accuracy  AUC   Recall  Precision\n",
      "RFC      0.624   0.649   0.585   0.168 \n",
      "LREG     0.650   0.636   0.528   0.169 \n",
      "GBC      0.614   0.641   0.597   0.166 \n",
      "ADA      0.671   0.650   0.527   0.179 \n",
      "ADAgrid  0.663   0.659   0.546   0.179 \n",
      "CLFGini  0.602   0.637   0.628   0.167 \n",
      "KNN      0.586   0.575   0.510   0.140 \n"
     ]
    }
   ],
   "source": [
    "print(\"Model   \"       \"Accuracy \"       \" AUC  \"     \" Recall \"   \" Precision\")\n",
    "print(\"RFC  \", \"   %.3f \"%accuracy_rfc, \" %.3f \"%auc_rfc,\" %.3f\"%recall_rfc,\"  %.3f \"%precision_rfc)\n",
    "print(\"LREG  \", \"  %.3f \"%accuracy_lreg, \" %.3f \"%auc_lreg,\" %.3f\"%recall_lreg,\"  %.3f \"%precision_lreg)\n",
    "print(\"GBC  \", \"   %.3f \"%accuracy_gbc, \" %.3f \"%auc_gbc,\" %.3f\"%recall_gbc,\"  %.3f \"%precision_gbc)\n",
    "print(\"ADA  \", \"   %.3f \"%accuracy_ada, \" %.3f \"%auc_ada,\" %.3f\"%recall_ada,\"  %.3f \"%precision_ada)\n",
    "print(\"ADAgrid\",\" %.3f \"%accuracy_adagrid,\" %.3f \"%auc_adagrid,\" %.3f \"%recall_adagrid,\" %.3f \"%precision_adagrid)\n",
    "print(\"CLFGini\",\" %.3f \"%accuracy_clfgini,\" %.3f \"% auc_clfgini,\" %.3f \"% recall_clfgini,\" %.3f \"% precision_clfgini)\n",
    "print(\"KNN  \", \"   %.3f \"%accuracy_knn, \" %.3f \"% auc_knn,\" %.3f\"%recall_knn,\"  %.3f \"%precision_knn)"
   ]
  },
  {
   "cell_type": "code",
   "execution_count": 249,
   "metadata": {},
   "outputs": [
    {
     "name": "stderr",
     "output_type": "stream",
     "text": [
      "C:\\Users\\manju\\Anaconda3\\lib\\site-packages\\matplotlib\\cbook\\deprecation.py:107: MatplotlibDeprecationWarning: Adding an axes using the same arguments as a previous axes currently reuses the earlier instance.  In a future version, a new instance will always be created and returned.  Meanwhile, this warning can be suppressed, and the future behavior ensured, by passing a unique label to each axes instance.\n",
      "  warnings.warn(message, mplDeprecation, stacklevel=1)\n"
     ]
    },
    {
     "data": {
      "text/plain": [
       "Text(0,0.5,'True Positive Rate')"
      ]
     },
     "execution_count": 249,
     "metadata": {},
     "output_type": "execute_result"
    },
    {
     "data": {
      "image/png": "[encoded data removed]",
      "text/plain": [
       "<Figure size 576x576 with 1 Axes>"
      ]
     },
     "metadata": {},
     "output_type": "display_data"
    }
   ],
   "source": [
    "#compare the ROC curve between different models\n",
    "plt.figure(figsize=(8,8))\n",
    "plt.plot(fpr_rfc, tpr_rfc, label='Randomforest Classifier')\n",
    "plt.plot(fpr_lreg, tpr_lreg, label='Logistic regression')\n",
    "plt.plot(fpr_rfc, tpr_rfc, label='Randomforest Classifier')\n",
    "plt.plot(fpr_gbc, tpr_gbc, label='Gradient Boosting Classifier')\n",
    "plt.plot(fpr_ada, tpr_ada, label='Adaboost')\n",
    "plt.plot(fpr_adagrid, tpr_adagrid, label='Ada with gridsearch')\n",
    "plt.plot(fpr_clfgini, tpr_clfgini, label='Decision Tree')\n",
    "plt.plot(fpr_knn, tpr_knn, label='Knn')\n",
    "plt.plot([0, 1], [0, 1], linestyle='--', lw=2, color='r',\n",
    "         label='random', alpha=.8)\n",
    "plt.xlim([0,1])\n",
    "plt.ylim([0,1])\n",
    "plt.xticks(np.arange(0,1.1,0.1))\n",
    "plt.yticks(np.arange(0,1.1,0.1))\n",
    "plt.grid()\n",
    "plt.legend()\n",
    "plt.axes().set_aspect('equal')\n",
    "plt.xlabel('False Positive Rate')\n",
    "plt.ylabel('True Positive Rate')"
   ]
  },
  {
   "cell_type": "markdown",
   "metadata": {},
   "source": [
    "## Summary"
   ]
  },
  {
   "cell_type": "markdown",
   "metadata": {},
   "source": [
    "         1) Looking at the tabular column, ADA Boosting Classifier with gridsearch has the best AUC and would be the model of \n",
    "            choice for prediction in this project \n",
    "         2) However,accuracy of all the models ranges between 58-67%. Further, applying more pre-processing techniques might \n",
    "            help improve the accuracy. \n",
    "         3) With this ML model, it is possible to predict the probability of a patient with diabetes getting readmitted   \n",
    "            within 30 days with 66% accuracy and AUC of 0.67. "
   ]
  }
 ],
 "metadata": {
  "kernelspec": {
   "display_name": "Python 3",
   "language": "python",
   "name": "python3"
  },
  "language_info": {
   "codemirror_mode": {
    "name": "ipython",
    "version": 3
   },
   "file_extension": ".py",
   "mimetype": "text/x-python",
   "name": "python",
   "nbconvert_exporter": "python",
   "pygments_lexer": "ipython3",
   "version": "3.6.5"
  }
 },
 "nbformat": 4,
 "nbformat_minor": 2
}
